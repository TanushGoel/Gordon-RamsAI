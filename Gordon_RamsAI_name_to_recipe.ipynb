{
  "nbformat": 4,
  "nbformat_minor": 0,
  "metadata": {
    "colab": {
      "name": "Gordon RamsAI (name --> recipe)",
      "provenance": [],
      "collapsed_sections": [],
      "authorship_tag": "ABX9TyMiIGHv2ZT3cnYX4WBIlkek",
      "include_colab_link": true
    },
    "kernelspec": {
      "name": "python3",
      "display_name": "Python 3"
    },
    "accelerator": "GPU"
  },
  "cells": [
    {
      "cell_type": "markdown",
      "metadata": {
        "id": "view-in-github",
        "colab_type": "text"
      },
      "source": [
        "<a href=\"https://colab.research.google.com/github/TanushGoel/Gordon-RamsAI/blob/master/Gordon_RamsAI_name_to_recipe.ipynb\" target=\"_parent\"><img src=\"https://colab.research.google.com/assets/colab-badge.svg\" alt=\"Open In Colab\"/></a>"
      ]
    },
    {
      "cell_type": "markdown",
      "metadata": {
        "id": "6ET0DCWXkaCc",
        "colab_type": "text"
      },
      "source": [
        "# Data"
      ]
    },
    {
      "cell_type": "code",
      "metadata": {
        "id": "XXtoaiTxCayy",
        "colab_type": "code",
        "colab": {}
      },
      "source": [
        "!unzip -q -o \"recipes_data.zip\"\n",
        "\n",
        "# data sources:\n",
        "# https://www.kaggle.com/shuyangli94/food-com-recipes-and-user-interactions -- > Food.com\n",
        "# https://www.kaggle.com/gjbroughton/christmas-recipes -- >  bbcgoodfood.com\n",
        "# https://eightportions.com/datasets/Recipes/#fn:1 --> multiple websites"
      ],
      "execution_count": 1,
      "outputs": []
    },
    {
      "cell_type": "code",
      "metadata": {
        "id": "Ugmq3DN0C4bz",
        "colab_type": "code",
        "colab": {
          "base_uri": "https://localhost:8080/",
          "height": 306
        },
        "outputId": "773373cb-d07a-4aed-e0b1-7601eb8920b7"
      },
      "source": [
        "import pandas as pd\n",
        "\n",
        "recipes = pd.read_csv(\"recipes_data/RAW_recipes.csv\")\n",
        "recipes[\"steps\"] = [eval(recipe_steps) for recipe_steps in recipes[\"steps\"]] # convert list-formatted string into a list\n",
        "recipes[\"steps\"] = [\" \".join(steps) for steps in recipes[\"steps\"]] # turn the steps into a single string\n",
        "print(len(recipes))\n",
        "recipes.head()"
      ],
      "execution_count": 1,
      "outputs": [
        {
          "output_type": "stream",
          "text": [
            "231637\n"
          ],
          "name": "stdout"
        },
        {
          "output_type": "execute_result",
          "data": {
            "text/html": [
              "<div>\n",
              "<style scoped>\n",
              "    .dataframe tbody tr th:only-of-type {\n",
              "        vertical-align: middle;\n",
              "    }\n",
              "\n",
              "    .dataframe tbody tr th {\n",
              "        vertical-align: top;\n",
              "    }\n",
              "\n",
              "    .dataframe thead th {\n",
              "        text-align: right;\n",
              "    }\n",
              "</style>\n",
              "<table border=\"1\" class=\"dataframe\">\n",
              "  <thead>\n",
              "    <tr style=\"text-align: right;\">\n",
              "      <th></th>\n",
              "      <th>name</th>\n",
              "      <th>id</th>\n",
              "      <th>minutes</th>\n",
              "      <th>contributor_id</th>\n",
              "      <th>submitted</th>\n",
              "      <th>tags</th>\n",
              "      <th>nutrition</th>\n",
              "      <th>n_steps</th>\n",
              "      <th>steps</th>\n",
              "      <th>description</th>\n",
              "      <th>ingredients</th>\n",
              "      <th>n_ingredients</th>\n",
              "    </tr>\n",
              "  </thead>\n",
              "  <tbody>\n",
              "    <tr>\n",
              "      <th>0</th>\n",
              "      <td>arriba   baked winter squash mexican style</td>\n",
              "      <td>137739</td>\n",
              "      <td>55</td>\n",
              "      <td>47892</td>\n",
              "      <td>2005-09-16</td>\n",
              "      <td>['60-minutes-or-less', 'time-to-make', 'course...</td>\n",
              "      <td>[51.5, 0.0, 13.0, 0.0, 2.0, 0.0, 4.0]</td>\n",
              "      <td>11</td>\n",
              "      <td>make a choice and proceed with recipe dependin...</td>\n",
              "      <td>autumn is my favorite time of year to cook! th...</td>\n",
              "      <td>['winter squash', 'mexican seasoning', 'mixed ...</td>\n",
              "      <td>7</td>\n",
              "    </tr>\n",
              "    <tr>\n",
              "      <th>1</th>\n",
              "      <td>a bit different  breakfast pizza</td>\n",
              "      <td>31490</td>\n",
              "      <td>30</td>\n",
              "      <td>26278</td>\n",
              "      <td>2002-06-17</td>\n",
              "      <td>['30-minutes-or-less', 'time-to-make', 'course...</td>\n",
              "      <td>[173.4, 18.0, 0.0, 17.0, 22.0, 35.0, 1.0]</td>\n",
              "      <td>9</td>\n",
              "      <td>preheat oven to 425 degrees f press dough into...</td>\n",
              "      <td>this recipe calls for the crust to be prebaked...</td>\n",
              "      <td>['prepared pizza crust', 'sausage patty', 'egg...</td>\n",
              "      <td>6</td>\n",
              "    </tr>\n",
              "    <tr>\n",
              "      <th>2</th>\n",
              "      <td>all in the kitchen  chili</td>\n",
              "      <td>112140</td>\n",
              "      <td>130</td>\n",
              "      <td>196586</td>\n",
              "      <td>2005-02-25</td>\n",
              "      <td>['time-to-make', 'course', 'preparation', 'mai...</td>\n",
              "      <td>[269.8, 22.0, 32.0, 48.0, 39.0, 27.0, 5.0]</td>\n",
              "      <td>6</td>\n",
              "      <td>brown ground beef in large pot add chopped oni...</td>\n",
              "      <td>this modified version of 'mom's' chili was a h...</td>\n",
              "      <td>['ground beef', 'yellow onions', 'diced tomato...</td>\n",
              "      <td>13</td>\n",
              "    </tr>\n",
              "    <tr>\n",
              "      <th>3</th>\n",
              "      <td>alouette  potatoes</td>\n",
              "      <td>59389</td>\n",
              "      <td>45</td>\n",
              "      <td>68585</td>\n",
              "      <td>2003-04-14</td>\n",
              "      <td>['60-minutes-or-less', 'time-to-make', 'course...</td>\n",
              "      <td>[368.1, 17.0, 10.0, 2.0, 14.0, 8.0, 20.0]</td>\n",
              "      <td>11</td>\n",
              "      <td>place potatoes in a large pot of lightly salte...</td>\n",
              "      <td>this is a super easy, great tasting, make ahea...</td>\n",
              "      <td>['spreadable cheese with garlic and herbs', 'n...</td>\n",
              "      <td>11</td>\n",
              "    </tr>\n",
              "    <tr>\n",
              "      <th>4</th>\n",
              "      <td>amish  tomato ketchup  for canning</td>\n",
              "      <td>44061</td>\n",
              "      <td>190</td>\n",
              "      <td>41706</td>\n",
              "      <td>2002-10-25</td>\n",
              "      <td>['weeknight', 'time-to-make', 'course', 'main-...</td>\n",
              "      <td>[352.9, 1.0, 337.0, 23.0, 3.0, 0.0, 28.0]</td>\n",
              "      <td>5</td>\n",
              "      <td>mix all ingredients&amp; boil for 2 1 / 2 hours , ...</td>\n",
              "      <td>my dh's amish mother raised him on this recipe...</td>\n",
              "      <td>['tomato juice', 'apple cider vinegar', 'sugar...</td>\n",
              "      <td>8</td>\n",
              "    </tr>\n",
              "  </tbody>\n",
              "</table>\n",
              "</div>"
            ],
            "text/plain": [
              "                                         name  ...  n_ingredients\n",
              "0  arriba   baked winter squash mexican style  ...              7\n",
              "1            a bit different  breakfast pizza  ...              6\n",
              "2                   all in the kitchen  chili  ...             13\n",
              "3                          alouette  potatoes  ...             11\n",
              "4          amish  tomato ketchup  for canning  ...              8\n",
              "\n",
              "[5 rows x 12 columns]"
            ]
          },
          "metadata": {
            "tags": []
          },
          "execution_count": 1
        }
      ]
    },
    {
      "cell_type": "code",
      "metadata": {
        "id": "Ehay3tmFDsED",
        "colab_type": "code",
        "colab": {
          "base_uri": "https://localhost:8080/",
          "height": 221
        },
        "outputId": "851c3e9d-1eac-420c-fecc-ba3257392fa3"
      },
      "source": [
        "interactions = pd.read_csv(\"recipes_data/RAW_interactions.csv\")\n",
        "print(len(interactions))\n",
        "interactions.head()"
      ],
      "execution_count": 2,
      "outputs": [
        {
          "output_type": "stream",
          "text": [
            "1132367\n"
          ],
          "name": "stdout"
        },
        {
          "output_type": "execute_result",
          "data": {
            "text/html": [
              "<div>\n",
              "<style scoped>\n",
              "    .dataframe tbody tr th:only-of-type {\n",
              "        vertical-align: middle;\n",
              "    }\n",
              "\n",
              "    .dataframe tbody tr th {\n",
              "        vertical-align: top;\n",
              "    }\n",
              "\n",
              "    .dataframe thead th {\n",
              "        text-align: right;\n",
              "    }\n",
              "</style>\n",
              "<table border=\"1\" class=\"dataframe\">\n",
              "  <thead>\n",
              "    <tr style=\"text-align: right;\">\n",
              "      <th></th>\n",
              "      <th>user_id</th>\n",
              "      <th>recipe_id</th>\n",
              "      <th>date</th>\n",
              "      <th>rating</th>\n",
              "      <th>review</th>\n",
              "    </tr>\n",
              "  </thead>\n",
              "  <tbody>\n",
              "    <tr>\n",
              "      <th>0</th>\n",
              "      <td>38094</td>\n",
              "      <td>40893</td>\n",
              "      <td>2003-02-17</td>\n",
              "      <td>4</td>\n",
              "      <td>Great with a salad. Cooked on top of stove for...</td>\n",
              "    </tr>\n",
              "    <tr>\n",
              "      <th>1</th>\n",
              "      <td>1293707</td>\n",
              "      <td>40893</td>\n",
              "      <td>2011-12-21</td>\n",
              "      <td>5</td>\n",
              "      <td>So simple, so delicious! Great for chilly fall...</td>\n",
              "    </tr>\n",
              "    <tr>\n",
              "      <th>2</th>\n",
              "      <td>8937</td>\n",
              "      <td>44394</td>\n",
              "      <td>2002-12-01</td>\n",
              "      <td>4</td>\n",
              "      <td>This worked very well and is EASY.  I used not...</td>\n",
              "    </tr>\n",
              "    <tr>\n",
              "      <th>3</th>\n",
              "      <td>126440</td>\n",
              "      <td>85009</td>\n",
              "      <td>2010-02-27</td>\n",
              "      <td>5</td>\n",
              "      <td>I made the Mexican topping and took it to bunk...</td>\n",
              "    </tr>\n",
              "    <tr>\n",
              "      <th>4</th>\n",
              "      <td>57222</td>\n",
              "      <td>85009</td>\n",
              "      <td>2011-10-01</td>\n",
              "      <td>5</td>\n",
              "      <td>Made the cheddar bacon topping, adding a sprin...</td>\n",
              "    </tr>\n",
              "  </tbody>\n",
              "</table>\n",
              "</div>"
            ],
            "text/plain": [
              "   user_id  ...                                             review\n",
              "0    38094  ...  Great with a salad. Cooked on top of stove for...\n",
              "1  1293707  ...  So simple, so delicious! Great for chilly fall...\n",
              "2     8937  ...  This worked very well and is EASY.  I used not...\n",
              "3   126440  ...  I made the Mexican topping and took it to bunk...\n",
              "4    57222  ...  Made the cheddar bacon topping, adding a sprin...\n",
              "\n",
              "[5 rows x 5 columns]"
            ]
          },
          "metadata": {
            "tags": []
          },
          "execution_count": 2
        }
      ]
    },
    {
      "cell_type": "code",
      "metadata": {
        "id": "BQ6617njehE1",
        "colab_type": "code",
        "colab": {}
      },
      "source": [
        "averaged_ratings = [] # create averaged ratings for each recipe from the interactions data\n",
        "for id in recipes.id:\n",
        "    all_ratings = interactions.loc[interactions['recipe_id'] == id].rating\n",
        "    averaged_ratings.append(sum(all_ratings) / len(all_ratings))"
      ],
      "execution_count": 3,
      "outputs": []
    },
    {
      "cell_type": "code",
      "metadata": {
        "id": "E6ZsGEW1IlKQ",
        "colab_type": "code",
        "colab": {
          "base_uri": "https://localhost:8080/",
          "height": 221
        },
        "outputId": "3f2fc4ce-9942-4b4e-fd05-1634ee530b65"
      },
      "source": [
        "import string \n",
        "\n",
        "data = pd.DataFrame({\"name\": [str(s).translate(str.maketrans('', '', string.punctuation)).lower() for s in recipes[\"name\"]],\n",
        "                     \"steps\": [str(s).translate(str.maketrans('', '', string.punctuation)).lower() for s in recipes[\"steps\"]],  \n",
        "                     \"rating\": averaged_ratings})\n",
        "data = data[data['rating'] >= 3.25].drop('rating', axis=1) # only keep the recipes with an average rating of 3.25 or higher\n",
        "del recipes, interactions, averaged_ratings\n",
        "print(len(data))\n",
        "data.head()"
      ],
      "execution_count": 4,
      "outputs": [
        {
          "output_type": "stream",
          "text": [
            "207866\n"
          ],
          "name": "stdout"
        },
        {
          "output_type": "execute_result",
          "data": {
            "text/html": [
              "<div>\n",
              "<style scoped>\n",
              "    .dataframe tbody tr th:only-of-type {\n",
              "        vertical-align: middle;\n",
              "    }\n",
              "\n",
              "    .dataframe tbody tr th {\n",
              "        vertical-align: top;\n",
              "    }\n",
              "\n",
              "    .dataframe thead th {\n",
              "        text-align: right;\n",
              "    }\n",
              "</style>\n",
              "<table border=\"1\" class=\"dataframe\">\n",
              "  <thead>\n",
              "    <tr style=\"text-align: right;\">\n",
              "      <th></th>\n",
              "      <th>name</th>\n",
              "      <th>steps</th>\n",
              "    </tr>\n",
              "  </thead>\n",
              "  <tbody>\n",
              "    <tr>\n",
              "      <th>0</th>\n",
              "      <td>arriba   baked winter squash mexican style</td>\n",
              "      <td>make a choice and proceed with recipe dependin...</td>\n",
              "    </tr>\n",
              "    <tr>\n",
              "      <th>1</th>\n",
              "      <td>a bit different  breakfast pizza</td>\n",
              "      <td>preheat oven to 425 degrees f press dough into...</td>\n",
              "    </tr>\n",
              "    <tr>\n",
              "      <th>2</th>\n",
              "      <td>all in the kitchen  chili</td>\n",
              "      <td>brown ground beef in large pot add chopped oni...</td>\n",
              "    </tr>\n",
              "    <tr>\n",
              "      <th>3</th>\n",
              "      <td>alouette  potatoes</td>\n",
              "      <td>place potatoes in a large pot of lightly salte...</td>\n",
              "    </tr>\n",
              "    <tr>\n",
              "      <th>4</th>\n",
              "      <td>amish  tomato ketchup  for canning</td>\n",
              "      <td>mix all ingredients boil for 2 1  2 hours  or ...</td>\n",
              "    </tr>\n",
              "  </tbody>\n",
              "</table>\n",
              "</div>"
            ],
            "text/plain": [
              "                                         name                                              steps\n",
              "0  arriba   baked winter squash mexican style  make a choice and proceed with recipe dependin...\n",
              "1            a bit different  breakfast pizza  preheat oven to 425 degrees f press dough into...\n",
              "2                   all in the kitchen  chili  brown ground beef in large pot add chopped oni...\n",
              "3                          alouette  potatoes  place potatoes in a large pot of lightly salte...\n",
              "4          amish  tomato ketchup  for canning  mix all ingredients boil for 2 1  2 hours  or ..."
            ]
          },
          "metadata": {
            "tags": []
          },
          "execution_count": 4
        }
      ]
    },
    {
      "cell_type": "markdown",
      "metadata": {
        "id": "WcAPs0gwqklJ",
        "colab_type": "text"
      },
      "source": [
        "# More Data"
      ]
    },
    {
      "cell_type": "code",
      "metadata": {
        "id": "Ug-p2PfrZSj5",
        "colab_type": "code",
        "colab": {
          "base_uri": "https://localhost:8080/",
          "height": 204
        },
        "outputId": "152fd64e-1b35-4df4-f9c5-ab74acd656e4"
      },
      "source": [
        "christmas_recipes = pd.read_json(\"recipes_data/christmas_recipes.json\", lines=True)\n",
        "christmas_recipes[\"Method\"] = [\" \".join(steps) for steps in christmas_recipes[\"Method\"]] # turn the steps into a single string\n",
        "christmas_recipes.head()"
      ],
      "execution_count": 5,
      "outputs": [
        {
          "output_type": "execute_result",
          "data": {
            "text/html": [
              "<div>\n",
              "<style scoped>\n",
              "    .dataframe tbody tr th:only-of-type {\n",
              "        vertical-align: middle;\n",
              "    }\n",
              "\n",
              "    .dataframe tbody tr th {\n",
              "        vertical-align: top;\n",
              "    }\n",
              "\n",
              "    .dataframe thead th {\n",
              "        text-align: right;\n",
              "    }\n",
              "</style>\n",
              "<table border=\"1\" class=\"dataframe\">\n",
              "  <thead>\n",
              "    <tr style=\"text-align: right;\">\n",
              "      <th></th>\n",
              "      <th>Name</th>\n",
              "      <th>url</th>\n",
              "      <th>Description</th>\n",
              "      <th>Author</th>\n",
              "      <th>Ingredients</th>\n",
              "      <th>Method</th>\n",
              "    </tr>\n",
              "  </thead>\n",
              "  <tbody>\n",
              "    <tr>\n",
              "      <th>0</th>\n",
              "      <td>Christmas pie</td>\n",
              "      <td>https://www.bbcgoodfood.com/recipes/2793/chris...</td>\n",
              "      <td>Combine a few key Christmas flavours here to m...</td>\n",
              "      <td>Mary Cadogan</td>\n",
              "      <td>[2 tbsp olive oil, knob butter, 1 onion, finel...</td>\n",
              "      <td>Heat oven to 190C/fan 170C/gas 5. Heat 1 tbsp ...</td>\n",
              "    </tr>\n",
              "    <tr>\n",
              "      <th>1</th>\n",
              "      <td>Simmer-&amp;-stir Christmas cake</td>\n",
              "      <td>https://www.bbcgoodfood.com/recipes/1160/simme...</td>\n",
              "      <td>An easy-to-make alternative to traditional Chr...</td>\n",
              "      <td>Mary Cadogan</td>\n",
              "      <td>[175g butter, chopped, 200g dark muscovado sug...</td>\n",
              "      <td>Put the butter, sugar, fruit, zests, juice and...</td>\n",
              "    </tr>\n",
              "    <tr>\n",
              "      <th>2</th>\n",
              "      <td>Christmas cupcakes</td>\n",
              "      <td>https://www.bbcgoodfood.com/recipes/72622/chri...</td>\n",
              "      <td>These beautiful and classy little cakes make l...</td>\n",
              "      <td>Sara Buenfeld</td>\n",
              "      <td>[200g dark muscovado sugar, 175g butter, chopp...</td>\n",
              "      <td>Tip the sugar, butter, dried fruit, whole cher...</td>\n",
              "    </tr>\n",
              "    <tr>\n",
              "      <th>3</th>\n",
              "      <td>Christmas buns</td>\n",
              "      <td>https://www.bbcgoodfood.com/recipes/1803633/ch...</td>\n",
              "      <td>Paul Hollywood's fruit rolls can be made ahead...</td>\n",
              "      <td>Paul Hollywood</td>\n",
              "      <td>[500g strong white flour, plus extra for dusti...</td>\n",
              "      <td>Put the flour and 1 tsp salt into a large bowl...</td>\n",
              "    </tr>\n",
              "    <tr>\n",
              "      <th>4</th>\n",
              "      <td>Christmas cupcakes</td>\n",
              "      <td>https://www.bbcgoodfood.com/recipes/981634/chr...</td>\n",
              "      <td>Made these for the second time today, and I ha...</td>\n",
              "      <td>Barney Desmazery</td>\n",
              "      <td>[280g self-raising flour, 175g golden caster s...</td>\n",
              "      <td>Heat oven to 190C/170 fan/gas 5 and line a 12-...</td>\n",
              "    </tr>\n",
              "  </tbody>\n",
              "</table>\n",
              "</div>"
            ],
            "text/plain": [
              "                           Name  ...                                             Method\n",
              "0                 Christmas pie  ...  Heat oven to 190C/fan 170C/gas 5. Heat 1 tbsp ...\n",
              "1  Simmer-&-stir Christmas cake  ...  Put the butter, sugar, fruit, zests, juice and...\n",
              "2            Christmas cupcakes  ...  Tip the sugar, butter, dried fruit, whole cher...\n",
              "3                Christmas buns  ...  Put the flour and 1 tsp salt into a large bowl...\n",
              "4            Christmas cupcakes  ...  Heat oven to 190C/170 fan/gas 5 and line a 12-...\n",
              "\n",
              "[5 rows x 6 columns]"
            ]
          },
          "metadata": {
            "tags": []
          },
          "execution_count": 5
        }
      ]
    },
    {
      "cell_type": "code",
      "metadata": {
        "id": "GBLQyVidaqsE",
        "colab_type": "code",
        "colab": {
          "base_uri": "https://localhost:8080/",
          "height": 221
        },
        "outputId": "326f2893-3b9b-4bbf-de17-3e9cb6201149"
      },
      "source": [
        "data = pd.concat([data, pd.DataFrame({\"name\": [str(s).translate(str.maketrans('', '', string.punctuation)).lower() for s in christmas_recipes[\"Name\"]], \n",
        "                                      \"steps\": [str(s).translate(str.maketrans('', '', string.punctuation)).lower() for s in christmas_recipes[\"Method\"]]})])\n",
        "del christmas_recipes\n",
        "print(len(data))\n",
        "data.head()"
      ],
      "execution_count": 6,
      "outputs": [
        {
          "output_type": "stream",
          "text": [
            "209483\n"
          ],
          "name": "stdout"
        },
        {
          "output_type": "execute_result",
          "data": {
            "text/html": [
              "<div>\n",
              "<style scoped>\n",
              "    .dataframe tbody tr th:only-of-type {\n",
              "        vertical-align: middle;\n",
              "    }\n",
              "\n",
              "    .dataframe tbody tr th {\n",
              "        vertical-align: top;\n",
              "    }\n",
              "\n",
              "    .dataframe thead th {\n",
              "        text-align: right;\n",
              "    }\n",
              "</style>\n",
              "<table border=\"1\" class=\"dataframe\">\n",
              "  <thead>\n",
              "    <tr style=\"text-align: right;\">\n",
              "      <th></th>\n",
              "      <th>name</th>\n",
              "      <th>steps</th>\n",
              "    </tr>\n",
              "  </thead>\n",
              "  <tbody>\n",
              "    <tr>\n",
              "      <th>0</th>\n",
              "      <td>arriba   baked winter squash mexican style</td>\n",
              "      <td>make a choice and proceed with recipe dependin...</td>\n",
              "    </tr>\n",
              "    <tr>\n",
              "      <th>1</th>\n",
              "      <td>a bit different  breakfast pizza</td>\n",
              "      <td>preheat oven to 425 degrees f press dough into...</td>\n",
              "    </tr>\n",
              "    <tr>\n",
              "      <th>2</th>\n",
              "      <td>all in the kitchen  chili</td>\n",
              "      <td>brown ground beef in large pot add chopped oni...</td>\n",
              "    </tr>\n",
              "    <tr>\n",
              "      <th>3</th>\n",
              "      <td>alouette  potatoes</td>\n",
              "      <td>place potatoes in a large pot of lightly salte...</td>\n",
              "    </tr>\n",
              "    <tr>\n",
              "      <th>4</th>\n",
              "      <td>amish  tomato ketchup  for canning</td>\n",
              "      <td>mix all ingredients boil for 2 1  2 hours  or ...</td>\n",
              "    </tr>\n",
              "  </tbody>\n",
              "</table>\n",
              "</div>"
            ],
            "text/plain": [
              "                                         name                                              steps\n",
              "0  arriba   baked winter squash mexican style  make a choice and proceed with recipe dependin...\n",
              "1            a bit different  breakfast pizza  preheat oven to 425 degrees f press dough into...\n",
              "2                   all in the kitchen  chili  brown ground beef in large pot add chopped oni...\n",
              "3                          alouette  potatoes  place potatoes in a large pot of lightly salte...\n",
              "4          amish  tomato ketchup  for canning  mix all ingredients boil for 2 1  2 hours  or ..."
            ]
          },
          "metadata": {
            "tags": []
          },
          "execution_count": 6
        }
      ]
    },
    {
      "cell_type": "code",
      "metadata": {
        "id": "EzlBv_NNwAsL",
        "colab_type": "code",
        "colab": {
          "base_uri": "https://localhost:8080/",
          "height": 221
        },
        "outputId": "42f3e67b-5998-4614-835e-c2cb0ebe9bb3"
      },
      "source": [
        "recipes1 = pd.read_json(\"recipes_data/recipes_raw_nosource_ar.json\").T \n",
        "print(len(recipes1))\n",
        "recipes1.head()"
      ],
      "execution_count": 7,
      "outputs": [
        {
          "output_type": "stream",
          "text": [
            "39802\n"
          ],
          "name": "stdout"
        },
        {
          "output_type": "execute_result",
          "data": {
            "text/html": [
              "<div>\n",
              "<style scoped>\n",
              "    .dataframe tbody tr th:only-of-type {\n",
              "        vertical-align: middle;\n",
              "    }\n",
              "\n",
              "    .dataframe tbody tr th {\n",
              "        vertical-align: top;\n",
              "    }\n",
              "\n",
              "    .dataframe thead th {\n",
              "        text-align: right;\n",
              "    }\n",
              "</style>\n",
              "<table border=\"1\" class=\"dataframe\">\n",
              "  <thead>\n",
              "    <tr style=\"text-align: right;\">\n",
              "      <th></th>\n",
              "      <th>title</th>\n",
              "      <th>ingredients</th>\n",
              "      <th>instructions</th>\n",
              "      <th>picture_link</th>\n",
              "    </tr>\n",
              "  </thead>\n",
              "  <tbody>\n",
              "    <tr>\n",
              "      <th>rmK12Uau.ntP510KeImX506H6Mr6jTu</th>\n",
              "      <td>Slow Cooker Chicken and Dumplings</td>\n",
              "      <td>[4 skinless, boneless chicken breast halves AD...</td>\n",
              "      <td>Place the chicken, butter, soup, and onion in ...</td>\n",
              "      <td>55lznCYBbs2mT8BTx6BTkLhynGHzM.S</td>\n",
              "    </tr>\n",
              "    <tr>\n",
              "      <th>5ZpZE8hSVdPk2ZXo1mZTyoPWJRSCPSm</th>\n",
              "      <td>Awesome Slow Cooker Pot Roast</td>\n",
              "      <td>[2 (10.75 ounce) cans condensed cream of mushr...</td>\n",
              "      <td>In a slow cooker, mix cream of mushroom soup, ...</td>\n",
              "      <td>QyrvGdGNMBA2lDdciY0FjKu.77MM0Oe</td>\n",
              "    </tr>\n",
              "    <tr>\n",
              "      <th>clyYQv.CplpwJtjNaFGhx0VilNYqRxu</th>\n",
              "      <td>Brown Sugar Meatloaf</td>\n",
              "      <td>[1/2 cup packed brown sugar ADVERTISEMENT, 1/2...</td>\n",
              "      <td>Preheat oven to 350 degrees F (175 degrees C)....</td>\n",
              "      <td>LVW1DI0vtlCrpAhNSEQysE9i/7rJG56</td>\n",
              "    </tr>\n",
              "    <tr>\n",
              "      <th>BmqFAmCrDHiKNwX.IQzb0U/v0mLlxFu</th>\n",
              "      <td>Best Chocolate Chip Cookies</td>\n",
              "      <td>[1 cup butter, softened ADVERTISEMENT, 1 cup w...</td>\n",
              "      <td>Preheat oven to 350 degrees F (175 degrees C)....</td>\n",
              "      <td>0SO5kdWOV94j6EfAVwMMYRM3yNN8eRi</td>\n",
              "    </tr>\n",
              "    <tr>\n",
              "      <th>N.jCksRjB4MFwbgPFQU8Kg.yF.XCtOi</th>\n",
              "      <td>Homemade Mac and Cheese Casserole</td>\n",
              "      <td>[8 ounces whole wheat rotini pasta ADVERTISEME...</td>\n",
              "      <td>Preheat oven to 350 degrees F. Line a 2-quart ...</td>\n",
              "      <td>YCnbhplMgiraW4rUXcybgSEZinSgljm</td>\n",
              "    </tr>\n",
              "  </tbody>\n",
              "</table>\n",
              "</div>"
            ],
            "text/plain": [
              "                                                             title  ...                     picture_link\n",
              "rmK12Uau.ntP510KeImX506H6Mr6jTu  Slow Cooker Chicken and Dumplings  ...  55lznCYBbs2mT8BTx6BTkLhynGHzM.S\n",
              "5ZpZE8hSVdPk2ZXo1mZTyoPWJRSCPSm      Awesome Slow Cooker Pot Roast  ...  QyrvGdGNMBA2lDdciY0FjKu.77MM0Oe\n",
              "clyYQv.CplpwJtjNaFGhx0VilNYqRxu               Brown Sugar Meatloaf  ...  LVW1DI0vtlCrpAhNSEQysE9i/7rJG56\n",
              "BmqFAmCrDHiKNwX.IQzb0U/v0mLlxFu        Best Chocolate Chip Cookies  ...  0SO5kdWOV94j6EfAVwMMYRM3yNN8eRi\n",
              "N.jCksRjB4MFwbgPFQU8Kg.yF.XCtOi  Homemade Mac and Cheese Casserole  ...  YCnbhplMgiraW4rUXcybgSEZinSgljm\n",
              "\n",
              "[5 rows x 4 columns]"
            ]
          },
          "metadata": {
            "tags": []
          },
          "execution_count": 7
        }
      ]
    },
    {
      "cell_type": "code",
      "metadata": {
        "id": "DDtm28CVxKdk",
        "colab_type": "code",
        "colab": {
          "base_uri": "https://localhost:8080/",
          "height": 221
        },
        "outputId": "c352ea58-7ab2-4da9-80de-43c9091ef109"
      },
      "source": [
        "recipes2 = pd.read_json(\"recipes_data/recipes_raw_nosource_epi.json\").T \n",
        "print(len(recipes2))\n",
        "recipes2.head()"
      ],
      "execution_count": 8,
      "outputs": [
        {
          "output_type": "stream",
          "text": [
            "25323\n"
          ],
          "name": "stdout"
        },
        {
          "output_type": "execute_result",
          "data": {
            "text/html": [
              "<div>\n",
              "<style scoped>\n",
              "    .dataframe tbody tr th:only-of-type {\n",
              "        vertical-align: middle;\n",
              "    }\n",
              "\n",
              "    .dataframe tbody tr th {\n",
              "        vertical-align: top;\n",
              "    }\n",
              "\n",
              "    .dataframe thead th {\n",
              "        text-align: right;\n",
              "    }\n",
              "</style>\n",
              "<table border=\"1\" class=\"dataframe\">\n",
              "  <thead>\n",
              "    <tr style=\"text-align: right;\">\n",
              "      <th></th>\n",
              "      <th>ingredients</th>\n",
              "      <th>picture_link</th>\n",
              "      <th>instructions</th>\n",
              "      <th>title</th>\n",
              "    </tr>\n",
              "  </thead>\n",
              "  <tbody>\n",
              "    <tr>\n",
              "      <th>05zEpbSqcs9E0rcnCJWyZ9OgdH0MLby</th>\n",
              "      <td>[12 egg whites, 12 egg yolks, 1 1/2 cups sugar...</td>\n",
              "      <td>None</td>\n",
              "      <td>Beat the egg whites until stiff, gradually add...</td>\n",
              "      <td>Christmas Eggnog</td>\n",
              "    </tr>\n",
              "    <tr>\n",
              "      <th>mF5SZmoqxF4WtIlhLRvzuKk.z6s7P2S</th>\n",
              "      <td>[18 fresh chestnuts, 2 1/2 pounds veal stew me...</td>\n",
              "      <td>None</td>\n",
              "      <td>Preheat oven to 400°F. Using small sharp knife...</td>\n",
              "      <td>Veal, Carrot and Chestnut Ragoût</td>\n",
              "    </tr>\n",
              "    <tr>\n",
              "      <th>oQV5D7cVbCFwmrDs3pBUv2y.AG0WV26</th>\n",
              "      <td>[2 tablespoons unsalted butter, softened, 4 or...</td>\n",
              "      <td>3xjktRst3I5lDZ2Z5kTOtqQyzZFFN9u</td>\n",
              "      <td>Preheat the oven to 350°F. Spread the softened...</td>\n",
              "      <td>Caramelized Bread Pudding with Chocolate and C...</td>\n",
              "    </tr>\n",
              "    <tr>\n",
              "      <th>Z9seBJWaB5NkSp4DQHDnCAUBTwov/1u</th>\n",
              "      <td>[3/4 pound Stilton, crumbled (about 3 cups) an...</td>\n",
              "      <td>None</td>\n",
              "      <td>In a food processor blend the Stilton, the cre...</td>\n",
              "      <td>Sherried Stilton and Green Peppercorn Spread</td>\n",
              "    </tr>\n",
              "    <tr>\n",
              "      <th>bB3GxoAplVZeoX3fzWNWyeECtQFxw6G</th>\n",
              "      <td>[2 cups (about 9 1/2 ounces) whole almonds, to...</td>\n",
              "      <td>None</td>\n",
              "      <td>Position rack in center of oven and preheat to...</td>\n",
              "      <td>Almond-Chocolate Macaroons</td>\n",
              "    </tr>\n",
              "  </tbody>\n",
              "</table>\n",
              "</div>"
            ],
            "text/plain": [
              "                                                                       ingredients  ...                                              title\n",
              "05zEpbSqcs9E0rcnCJWyZ9OgdH0MLby  [12 egg whites, 12 egg yolks, 1 1/2 cups sugar...  ...                                  Christmas Eggnog \n",
              "mF5SZmoqxF4WtIlhLRvzuKk.z6s7P2S  [18 fresh chestnuts, 2 1/2 pounds veal stew me...  ...                  Veal, Carrot and Chestnut Ragoût \n",
              "oQV5D7cVbCFwmrDs3pBUv2y.AG0WV26  [2 tablespoons unsalted butter, softened, 4 or...  ...  Caramelized Bread Pudding with Chocolate and C...\n",
              "Z9seBJWaB5NkSp4DQHDnCAUBTwov/1u  [3/4 pound Stilton, crumbled (about 3 cups) an...  ...      Sherried Stilton and Green Peppercorn Spread \n",
              "bB3GxoAplVZeoX3fzWNWyeECtQFxw6G  [2 cups (about 9 1/2 ounces) whole almonds, to...  ...                        Almond-Chocolate Macaroons \n",
              "\n",
              "[5 rows x 4 columns]"
            ]
          },
          "metadata": {
            "tags": []
          },
          "execution_count": 8
        }
      ]
    },
    {
      "cell_type": "code",
      "metadata": {
        "id": "msCPQ7g9xVHK",
        "colab_type": "code",
        "colab": {
          "base_uri": "https://localhost:8080/",
          "height": 221
        },
        "outputId": "87edcfb4-2a9b-40df-b632-f595969a1d39"
      },
      "source": [
        "recipes3 = pd.read_json(\"recipes_data/recipes_raw_nosource_fn.json\").T \n",
        "print(len(recipes3))\n",
        "recipes3.head()"
      ],
      "execution_count": 9,
      "outputs": [
        {
          "output_type": "stream",
          "text": [
            "60039\n"
          ],
          "name": "stdout"
        },
        {
          "output_type": "execute_result",
          "data": {
            "text/html": [
              "<div>\n",
              "<style scoped>\n",
              "    .dataframe tbody tr th:only-of-type {\n",
              "        vertical-align: middle;\n",
              "    }\n",
              "\n",
              "    .dataframe tbody tr th {\n",
              "        vertical-align: top;\n",
              "    }\n",
              "\n",
              "    .dataframe thead th {\n",
              "        text-align: right;\n",
              "    }\n",
              "</style>\n",
              "<table border=\"1\" class=\"dataframe\">\n",
              "  <thead>\n",
              "    <tr style=\"text-align: right;\">\n",
              "      <th></th>\n",
              "      <th>instructions</th>\n",
              "      <th>ingredients</th>\n",
              "      <th>title</th>\n",
              "      <th>picture_link</th>\n",
              "    </tr>\n",
              "  </thead>\n",
              "  <tbody>\n",
              "    <tr>\n",
              "      <th>p3pKOD6jIHEcjf20CCXohP8uqkG5dGi</th>\n",
              "      <td>Toss ingredients lightly and spoon into a butt...</td>\n",
              "      <td>[1/2 cup celery, finely chopped, 1 small green...</td>\n",
              "      <td>Grammie Hamblet's Deviled Crab</td>\n",
              "      <td>None</td>\n",
              "    </tr>\n",
              "    <tr>\n",
              "      <th>S7aeOIrsrgT0jLP32jKGg4j.o9zi2DO</th>\n",
              "      <td>Watch how to make this recipe.\\nSprinkle the s...</td>\n",
              "      <td>[2 pounds skirt steak, cut into 1/2-inch dice,...</td>\n",
              "      <td>Infineon Raceway Baked Beans</td>\n",
              "      <td>Ja5uaD8Q7m7vvtWwk2.48dr1eCre/qi</td>\n",
              "    </tr>\n",
              "    <tr>\n",
              "      <th>o9MItV9txfoPsUQ4v8b0vh1.VdjwfsK</th>\n",
              "      <td>In a large saucepan, let the beans soak in eno...</td>\n",
              "      <td>[1 1/2 cups dried black beans, picked over and...</td>\n",
              "      <td>Southwestern Black Bean Dip</td>\n",
              "      <td>None</td>\n",
              "    </tr>\n",
              "    <tr>\n",
              "      <th>5l1yTSYFifF/M2dfbD6DX28WWQpLWNK</th>\n",
              "      <td>Watch how to make this recipe.\\nPreheat the ov...</td>\n",
              "      <td>[1 1/4 pounds ground chuck, One 15-ounce can t...</td>\n",
              "      <td>Sour Cream Noodle Bake</td>\n",
              "      <td>nm/WxalB.VjEZSa0iX9RuZ8xI51Y7bS</td>\n",
              "    </tr>\n",
              "    <tr>\n",
              "      <th>kRBQSWtqYWqtkb34FGeenBSbC32gIdO</th>\n",
              "      <td>Special equipment: sushi mat\\nCook the brown r...</td>\n",
              "      <td>[1 cup rice, brown, medium-grain, cooked, 1/2-...</td>\n",
              "      <td>Sushi Renovation</td>\n",
              "      <td>None</td>\n",
              "    </tr>\n",
              "  </tbody>\n",
              "</table>\n",
              "</div>"
            ],
            "text/plain": [
              "                                                                      instructions  ...                     picture_link\n",
              "p3pKOD6jIHEcjf20CCXohP8uqkG5dGi  Toss ingredients lightly and spoon into a butt...  ...                             None\n",
              "S7aeOIrsrgT0jLP32jKGg4j.o9zi2DO  Watch how to make this recipe.\\nSprinkle the s...  ...  Ja5uaD8Q7m7vvtWwk2.48dr1eCre/qi\n",
              "o9MItV9txfoPsUQ4v8b0vh1.VdjwfsK  In a large saucepan, let the beans soak in eno...  ...                             None\n",
              "5l1yTSYFifF/M2dfbD6DX28WWQpLWNK  Watch how to make this recipe.\\nPreheat the ov...  ...  nm/WxalB.VjEZSa0iX9RuZ8xI51Y7bS\n",
              "kRBQSWtqYWqtkb34FGeenBSbC32gIdO  Special equipment: sushi mat\\nCook the brown r...  ...                             None\n",
              "\n",
              "[5 rows x 4 columns]"
            ]
          },
          "metadata": {
            "tags": []
          },
          "execution_count": 9
        }
      ]
    },
    {
      "cell_type": "code",
      "metadata": {
        "id": "ZQDF2l-Mxtjw",
        "colab_type": "code",
        "colab": {
          "base_uri": "https://localhost:8080/",
          "height": 221
        },
        "outputId": "d042310d-3306-40a4-ff48-b41dfc3c5728"
      },
      "source": [
        "data = pd.concat([data, pd.DataFrame({\"name\": [str(s).translate(str.maketrans('', '', string.punctuation)).lower() for s in recipes1[\"title\"]], \n",
        "                                      \"steps\": [str(s).translate(str.maketrans('', '', string.punctuation)).lower().replace(\"\\n\", \" \") for s in recipes1[\"instructions\"]]}), \n",
        "                  pd.DataFrame({\"name\": [str(s).translate(str.maketrans('', '', string.punctuation)).lower() for s in recipes2[\"title\"]], \n",
        "                                \"steps\": [str(s).translate(str.maketrans('', '', string.punctuation)).lower().replace(\"\\n\", \" \") for s in recipes2[\"instructions\"]]}),\n",
        "                  pd.DataFrame({\"name\": [str(s).translate(str.maketrans('', '', string.punctuation)).lower() for s in recipes3[\"title\"]], \n",
        "                                \"steps\": [str(s).translate(str.maketrans('', '', string.punctuation)).lower().replace(\"\\n\", \" \") for s in recipes3[\"instructions\"]]})])\n",
        "del recipes1, recipes2, recipes3\n",
        "data = data.sample(frac=1).reset_index(drop=True) # shuffle dataframe\n",
        "print(len(data))\n",
        "data.head()"
      ],
      "execution_count": 10,
      "outputs": [
        {
          "output_type": "stream",
          "text": [
            "334647\n"
          ],
          "name": "stdout"
        },
        {
          "output_type": "execute_result",
          "data": {
            "text/html": [
              "<div>\n",
              "<style scoped>\n",
              "    .dataframe tbody tr th:only-of-type {\n",
              "        vertical-align: middle;\n",
              "    }\n",
              "\n",
              "    .dataframe tbody tr th {\n",
              "        vertical-align: top;\n",
              "    }\n",
              "\n",
              "    .dataframe thead th {\n",
              "        text-align: right;\n",
              "    }\n",
              "</style>\n",
              "<table border=\"1\" class=\"dataframe\">\n",
              "  <thead>\n",
              "    <tr style=\"text-align: right;\">\n",
              "      <th></th>\n",
              "      <th>name</th>\n",
              "      <th>steps</th>\n",
              "    </tr>\n",
              "  </thead>\n",
              "  <tbody>\n",
              "    <tr>\n",
              "      <th>0</th>\n",
              "      <td>roasted beets with cumin and mint</td>\n",
              "      <td>stir together lemon juice cumin seeds salt and...</td>\n",
              "    </tr>\n",
              "    <tr>\n",
              "      <th>1</th>\n",
              "      <td>gingerbread truffles</td>\n",
              "      <td>bring first 7 ingredients just to boil in heav...</td>\n",
              "    </tr>\n",
              "    <tr>\n",
              "      <th>2</th>\n",
              "      <td>smoked bbq pork with watercress salad</td>\n",
              "      <td>to marinate the pork in a large bowl combine t...</td>\n",
              "    </tr>\n",
              "    <tr>\n",
              "      <th>3</th>\n",
              "      <td>herbcrusted cod with roasted tomato and garlic...</td>\n",
              "      <td>preheat oven to 450 degrees f lightly brush a ...</td>\n",
              "    </tr>\n",
              "    <tr>\n",
              "      <th>4</th>\n",
              "      <td>christmas day fettuccine</td>\n",
              "      <td>soak the sundried tomatoes in warm water until...</td>\n",
              "    </tr>\n",
              "  </tbody>\n",
              "</table>\n",
              "</div>"
            ],
            "text/plain": [
              "                                                name                                              steps\n",
              "0                 roasted beets with cumin and mint   stir together lemon juice cumin seeds salt and...\n",
              "1                              gingerbread truffles   bring first 7 ingredients just to boil in heav...\n",
              "2             smoked bbq pork with watercress salad   to marinate the pork in a large bowl combine t...\n",
              "3  herbcrusted cod with roasted tomato and garlic...  preheat oven to 450 degrees f lightly brush a ...\n",
              "4                           christmas day fettuccine  soak the sundried tomatoes in warm water until..."
            ]
          },
          "metadata": {
            "tags": []
          },
          "execution_count": 10
        }
      ]
    },
    {
      "cell_type": "code",
      "metadata": {
        "id": "LC14AdZz5Yfk",
        "colab_type": "code",
        "colab": {
          "base_uri": "https://localhost:8080/",
          "height": 34
        },
        "outputId": "f7173fde-6f5c-452c-8354-f61ea57187ae"
      },
      "source": [
        "data.drop_duplicates(subset=\"name\", keep=False, inplace=True) \n",
        "print(len(data))"
      ],
      "execution_count": 11,
      "outputs": [
        {
          "output_type": "stream",
          "text": [
            "295580\n"
          ],
          "name": "stdout"
        }
      ]
    },
    {
      "cell_type": "code",
      "metadata": {
        "id": "B_IwdJfUoug-",
        "colab_type": "code",
        "colab": {
          "base_uri": "https://localhost:8080/",
          "height": 238
        },
        "outputId": "03ee5dde-08f9-482a-fc10-2c5ad886af47"
      },
      "source": [
        "import nltk\n",
        "!python -m nltk.downloader all  -q\n",
        "\n",
        "from nltk.tokenize import word_tokenize\n",
        "from nltk.stem.porter import PorterStemmer\n",
        "porter = PorterStemmer()\n",
        "\n",
        "def process_text(text):\n",
        "\n",
        "    tokens = word_tokenize(text) # break into words\n",
        "    stemmed = [porter.stem(word) for word in tokens] # stemming = process of reducing a word to its root or base --> “fishing,” “fished,” “fisher” all reduce to the stem “fish”\n",
        "    stemmed.insert(0, \"<start>\")\n",
        "    stemmed.append(\"<end>\")\n",
        "\n",
        "    return stemmed\n",
        "\n",
        "data.steps = data.steps.apply(process_text)\n",
        "data.name = data.name.apply(process_text)\n",
        "data.head()"
      ],
      "execution_count": 12,
      "outputs": [
        {
          "output_type": "stream",
          "text": [
            "/usr/lib/python3.6/runpy.py:125: RuntimeWarning: 'nltk.downloader' found in sys.modules after import of package 'nltk', but prior to execution of 'nltk.downloader'; this may result in unpredictable behaviour\n",
            "  warn(RuntimeWarning(msg))\n"
          ],
          "name": "stdout"
        },
        {
          "output_type": "execute_result",
          "data": {
            "text/html": [
              "<div>\n",
              "<style scoped>\n",
              "    .dataframe tbody tr th:only-of-type {\n",
              "        vertical-align: middle;\n",
              "    }\n",
              "\n",
              "    .dataframe tbody tr th {\n",
              "        vertical-align: top;\n",
              "    }\n",
              "\n",
              "    .dataframe thead th {\n",
              "        text-align: right;\n",
              "    }\n",
              "</style>\n",
              "<table border=\"1\" class=\"dataframe\">\n",
              "  <thead>\n",
              "    <tr style=\"text-align: right;\">\n",
              "      <th></th>\n",
              "      <th>name</th>\n",
              "      <th>steps</th>\n",
              "    </tr>\n",
              "  </thead>\n",
              "  <tbody>\n",
              "    <tr>\n",
              "      <th>0</th>\n",
              "      <td>[&lt;start&gt;, roast, beet, with, cumin, and, mint,...</td>\n",
              "      <td>[&lt;start&gt;, stir, togeth, lemon, juic, cumin, se...</td>\n",
              "    </tr>\n",
              "    <tr>\n",
              "      <th>1</th>\n",
              "      <td>[&lt;start&gt;, gingerbread, truffl, &lt;end&gt;]</td>\n",
              "      <td>[&lt;start&gt;, bring, first, 7, ingredi, just, to, ...</td>\n",
              "    </tr>\n",
              "    <tr>\n",
              "      <th>2</th>\n",
              "      <td>[&lt;start&gt;, smoke, bbq, pork, with, watercress, ...</td>\n",
              "      <td>[&lt;start&gt;, to, marin, the, pork, in, a, larg, b...</td>\n",
              "    </tr>\n",
              "    <tr>\n",
              "      <th>3</th>\n",
              "      <td>[&lt;start&gt;, herbcrust, cod, with, roast, tomato,...</td>\n",
              "      <td>[&lt;start&gt;, preheat, oven, to, 450, degre, f, li...</td>\n",
              "    </tr>\n",
              "    <tr>\n",
              "      <th>4</th>\n",
              "      <td>[&lt;start&gt;, christma, day, fettuccin, &lt;end&gt;]</td>\n",
              "      <td>[&lt;start&gt;, soak, the, sundri, tomato, in, warm,...</td>\n",
              "    </tr>\n",
              "  </tbody>\n",
              "</table>\n",
              "</div>"
            ],
            "text/plain": [
              "                                                name                                              steps\n",
              "0  [<start>, roast, beet, with, cumin, and, mint,...  [<start>, stir, togeth, lemon, juic, cumin, se...\n",
              "1              [<start>, gingerbread, truffl, <end>]  [<start>, bring, first, 7, ingredi, just, to, ...\n",
              "2  [<start>, smoke, bbq, pork, with, watercress, ...  [<start>, to, marin, the, pork, in, a, larg, b...\n",
              "3  [<start>, herbcrust, cod, with, roast, tomato,...  [<start>, preheat, oven, to, 450, degre, f, li...\n",
              "4         [<start>, christma, day, fettuccin, <end>]  [<start>, soak, the, sundri, tomato, in, warm,..."
            ]
          },
          "metadata": {
            "tags": []
          },
          "execution_count": 12
        }
      ]
    },
    {
      "cell_type": "code",
      "metadata": {
        "id": "Y9kZBYXj4aD-",
        "colab_type": "code",
        "colab": {
          "base_uri": "https://localhost:8080/",
          "height": 54
        },
        "outputId": "03f0f079-d746-44a9-d3fd-2eae4a428bec"
      },
      "source": [
        "print(data.steps.iloc[0])"
      ],
      "execution_count": 13,
      "outputs": [
        {
          "output_type": "stream",
          "text": [
            "['<start>', 'stir', 'togeth', 'lemon', 'juic', 'cumin', 'seed', 'salt', 'and', 'pepper', 'in', 'a', 'medium', 'bowl', 'stir', 'in', 'oil', 'and', 'let', 'stand', 'while', 'roast', 'beet', 'put', 'oven', 'rack', 'in', 'middl', 'posit', 'and', 'preheat', 'oven', 'to', '425°f', 'tightli', 'wrap', 'beet', 'in', 'a', 'doubl', 'layer', 'of', 'foil', 'and', 'roast', 'on', 'a', 'bake', 'sheet', 'until', 'tender', '1', 'to', '1', '14', 'hour', 'cool', 'to', 'warm', 'in', 'foil', 'packag', 'about', '20', 'minut', 'when', 'beet', 'are', 'cool', 'enough', 'to', 'handl', 'peel', 'them', 'discard', 'stem', 'and', 'root', 'end', 'then', 'cut', 'into', '12inchwid', 'wedg', 'toss', 'warm', 'beet', 'with', 'dress', 'stir', 'in', 'mint', 'just', 'befor', 'serv', 'stir', 'togeth', 'lemon', 'juic', 'cumin', 'seed', 'salt', 'and', 'pepper', 'in', 'a', 'medium', 'bowl', 'stir', 'in', 'oil', 'and', 'let', 'stand', 'while', 'roast', 'beet', 'put', 'oven', 'rack', 'in', 'middl', 'posit', 'and', 'preheat', 'oven', 'to', '425°f', 'tightli', 'wrap', 'beet', 'in', 'a', 'doubl', 'layer', 'of', 'foil', 'and', 'roast', 'on', 'a', 'bake', 'sheet', 'until', 'tender', '1', 'to', '1', '14', 'hour', 'cool', 'to', 'warm', 'in', 'foil', 'packag', 'about', '20', 'minut', 'when', 'beet', 'are', 'cool', 'enough', 'to', 'handl', 'peel', 'them', 'discard', 'stem', 'and', 'root', 'end', 'then', 'cut', 'into', '12inchwid', 'wedg', 'toss', 'warm', 'beet', 'with', 'dress', 'stir', 'in', 'mint', 'just', 'befor', 'serv', '<end>']\n"
          ],
          "name": "stdout"
        }
      ]
    },
    {
      "cell_type": "code",
      "metadata": {
        "id": "-PT3lcF28Vk9",
        "colab_type": "code",
        "colab": {
          "base_uri": "https://localhost:8080/",
          "height": 71
        },
        "outputId": "3740597b-2fcc-41e0-cb73-62dd0befbac8"
      },
      "source": [
        "vocab = []\n",
        "for text in data.name + data.steps:\n",
        "    vocab += text\n",
        "vocab = list(set(vocab))\n",
        "word_to_int = dict(zip(vocab, range(1, len(vocab)+1)))\n",
        "int_to_word = {v: k for k, v in word_to_int.items()}\n",
        "print(len(vocab), \"words in vocab\")\n",
        "num_words = len(vocab)+1 # add one for padding 0's\n",
        "print(vocab[:100])"
      ],
      "execution_count": 14,
      "outputs": [
        {
          "output_type": "stream",
          "text": [
            "77121 words in vocab\n",
            "['scaveng', '78ounc', 'coconuttop', 'porki', 'meanz', 'frattata', 'ispanak', 'realemon®', 'reddiwipr', 'gonzalez', 'easilt', 'demerara', 'tazo', 'cocoscotcheroo', 'quinoacrust', 'handslic', '1whole', 'piginablanket', 'affo', 'wigth', '200210f', 'rollandcut', 'frok', 'mustardorang', 'andcar', 'blueish', 'hend', 'rainbowi', 'nonspecif', '364', 'blueberrybuttermilk', 'maplecardamom', 'milkflour', 'timey', 'syrupy', 'scratchproof', 'juicesb', 'spider¿', 'cauli', 'juicerum', 'lorac', 'breeze®', 'whalaa', 'drool', 'pobr', 'taqueria', 'wellyield', 'isoscel', 'wellspac', 'redroast', 'rhumlet', 'patato', 'driedand', 'cilantromint', 'mmmm', 'pearalmond', 'ho0ney', 'kiwifuit', 'overshoot', 'balsamicagav', 'pindur', 'chica', 'brujo', 'meatonion', 'cucrv', '1inchlong', 'softfirm', 'dhaniya', 'coccasion', 'poatao', 'suraac', 'visnevski', 'caipirinha', 'piparkakut', 'kaffeehau', 'aid', 'sophi', 'swatch', 'bubbleteasuppli', 'batindshan', 'tippi', 'spoon—they', 'deerelkmoos', 'mouthonfir', 'mida', 'halftim', 'window', 'xtc', 'carfelli', 'mediterraneo', 'abaout', 'goldbrown', 'licqour', 'cinnamonvanilla', 'hombr', 'loooozeeana', '9x12x2', 'tnderloin', 'honeysoak', 'ganish']\n"
          ],
          "name": "stdout"
        }
      ]
    },
    {
      "cell_type": "code",
      "metadata": {
        "id": "TqLxsWtn0E0h",
        "colab_type": "code",
        "colab": {
          "base_uri": "https://localhost:8080/",
          "height": 337
        },
        "outputId": "cb517cad-82cd-4900-a499-197461e8ec8a"
      },
      "source": [
        "import numpy as np\n",
        "\n",
        "# visualize amount of words in recipe steps\n",
        "pd.DataFrame([len(text) for text in data.steps])[0].hist(bins=np.arange(start=0, stop=750, step=1), figsize=[25,5])"
      ],
      "execution_count": 15,
      "outputs": [
        {
          "output_type": "execute_result",
          "data": {
            "text/plain": [
              "<matplotlib.axes._subplots.AxesSubplot at 0x7f9050919860>"
            ]
          },
          "metadata": {
            "tags": []
          },
          "execution_count": 15
        },
        {
          "output_type": "display_data",
          "data": {
            "image/png": "[encoded data removed]",
            "text/plain": [
              "<Figure size 1800x360 with 1 Axes>"
            ]
          },
          "metadata": {
            "tags": [],
            "needs_background": "light"
          }
        }
      ]
    },
    {
      "cell_type": "code",
      "metadata": {
        "id": "VlICLE_C3WBv",
        "colab_type": "code",
        "colab": {
          "base_uri": "https://localhost:8080/",
          "height": 337
        },
        "outputId": "0726e839-6a7c-44e3-a9af-ca57c0b5e371"
      },
      "source": [
        "# visualize amount of words in recipe names\n",
        "pd.DataFrame([len(text) for text in data.name])[0].hist(bins=np.arange(start=0, stop=50, step=1), figsize=[25,5])"
      ],
      "execution_count": 16,
      "outputs": [
        {
          "output_type": "execute_result",
          "data": {
            "text/plain": [
              "<matplotlib.axes._subplots.AxesSubplot at 0x7f90502b10f0>"
            ]
          },
          "metadata": {
            "tags": []
          },
          "execution_count": 16
        },
        {
          "output_type": "display_data",
          "data": {
            "image/png": "[encoded data removed]",
            "text/plain": [
              "<Figure size 1800x360 with 1 Axes>"
            ]
          },
          "metadata": {
            "tags": [],
            "needs_background": "light"
          }
        }
      ]
    },
    {
      "cell_type": "code",
      "metadata": {
        "id": "5pIHziiF31Z5",
        "colab_type": "code",
        "colab": {
          "base_uri": "https://localhost:8080/",
          "height": 34
        },
        "outputId": "2e8934e5-606f-471d-a353-4f02cb48d127"
      },
      "source": [
        "max_steps_len = 256\n",
        "max_name_len = 16\n",
        "\n",
        "data = data[data['steps'].str.len().le(max_steps_len)] \n",
        "data = data[data['name'].str.len().le(max_name_len)] \n",
        "len(data)"
      ],
      "execution_count": 17,
      "outputs": [
        {
          "output_type": "execute_result",
          "data": {
            "text/plain": [
              "268282"
            ]
          },
          "metadata": {
            "tags": []
          },
          "execution_count": 17
        }
      ]
    },
    {
      "cell_type": "code",
      "metadata": {
        "id": "jXXqYKKBRFJo",
        "colab_type": "code",
        "colab": {
          "base_uri": "https://localhost:8080/",
          "height": 51
        },
        "outputId": "b5616144-225d-4c8a-f640-bd68f3d66a1c"
      },
      "source": [
        "print(data.steps.map(lambda x: len(x)).max()) # max_steps_len\n",
        "print(data.name.map(lambda x: len(x)).max()) # max_name_len"
      ],
      "execution_count": 18,
      "outputs": [
        {
          "output_type": "stream",
          "text": [
            "256\n",
            "16\n"
          ],
          "name": "stdout"
        }
      ]
    },
    {
      "cell_type": "markdown",
      "metadata": {
        "id": "ypTGK8ZLkjSV",
        "colab_type": "text"
      },
      "source": [
        "# Model"
      ]
    },
    {
      "cell_type": "code",
      "metadata": {
        "id": "76BcX-dibhrK",
        "colab_type": "code",
        "colab": {
          "base_uri": "https://localhost:8080/",
          "height": 884
        },
        "outputId": "9405f743-a336-43ef-9af2-9a67b64d38d9"
      },
      "source": [
        "# bidirectional lstm model\n",
        "\n",
        "import tensorflow as tf\n",
        "from tensorflow.keras import layers\n",
        "from tensorflow.keras import Model\n",
        "from tensorflow.keras import initializers\n",
        "\n",
        "encoder_in = layers.Input(shape=(max_name_len,), dtype='int32', name='encoder_in')\n",
        "\n",
        "# encode the input sequence into a sequence of dense n-dimensional vectors\n",
        "embed_encoder = layers.Embedding(output_dim=32, input_dim=num_words, input_length=max_name_len)(encoder_in) \n",
        "\n",
        "# use LSTM to transform the vector sequence into a single vector containing information about the entire sequence\n",
        "lstm_encoder = layers.Bidirectional(tf.compat.v1.keras.layers.CuDNNLSTM(64, return_sequences=True, kernel_initializer=initializers.RandomNormal(stddev=0.2), bias_initializer=initializers.Zeros()))(embed_encoder)\n",
        "activation1_encoder = layers.PReLU()(lstm_encoder)\n",
        "dropout1_encoder = layers.Dropout(0.1)(activation1_encoder)\n",
        "\n",
        "decoder_in = layers.Input(shape=(max_steps_len,), dtype='int32', name='decoder_in')\n",
        "\n",
        "# encode the input sequence into a sequence of dense n-dimensional vectors\n",
        "embed_decoder = layers.Embedding(output_dim=128, input_dim=num_words, input_length=max_name_len)(decoder_in) \n",
        "\n",
        "# concat encoder output with steps embeddings\n",
        "concat = layers.concatenate([dropout1_encoder, embed_decoder], axis=1)\n",
        "\n",
        "# use LSTM to transform the vector sequence into a single vector containing information about the entire sequence\n",
        "lstm_decoder = layers.Bidirectional(tf.compat.v1.keras.layers.CuDNNLSTM(256, return_sequences=True, kernel_initializer=initializers.RandomNormal(stddev=0.2), bias_initializer=initializers.Zeros()))(concat)\n",
        "activation1_decoder = layers.PReLU()(lstm_decoder)\n",
        "dropout1_decoder = layers.Dropout(0.1)(activation1_decoder)\n",
        "lstm_decoder = layers.Bidirectional(tf.compat.v1.keras.layers.CuDNNLSTM(512, return_sequences=True, kernel_initializer=initializers.RandomNormal(stddev=0.2), bias_initializer=initializers.Zeros()))(dropout1_decoder)\n",
        "activation2_decoder = layers.PReLU()(dropout1_decoder)\n",
        "dropout2_decoder = layers.Dropout(0.1)(activation2_decoder)\n",
        "lstm_decoder = layers.Bidirectional(tf.compat.v1.keras.layers.CuDNNLSTM(256, return_sequences=True, kernel_initializer=initializers.RandomNormal(stddev=0.2), bias_initializer=initializers.Zeros()))(dropout2_decoder)\n",
        "activation3_decoder = layers.PReLU()(lstm_decoder)\n",
        "dropout3_decoder = layers.Dropout(0.1)(activation3_decoder)\n",
        "\n",
        "# turn into vector\n",
        "decoded_vec = layers.GlobalAveragePooling1D()(dropout3_decoder)\n",
        "\n",
        "# dense layers \n",
        "dense1 = layers.Dense(512, activation='relu')(decoded_vec)\n",
        "dropout1_dense = layers.Dropout(0.1)(dense1)\n",
        "dense2 = layers.Dense(256, activation='relu')(dropout1_dense)\n",
        "\n",
        "# output\n",
        "output = layers.Dense(num_words, activation=\"softmax\", name='output')(dense2) \n",
        "\n",
        "model = Model(inputs=[encoder_in, decoder_in], outputs=[output])\n",
        "\n",
        "model.summary()"
      ],
      "execution_count": 19,
      "outputs": [
        {
          "output_type": "stream",
          "text": [
            "Model: \"functional_1\"\n",
            "__________________________________________________________________________________________________\n",
            "Layer (type)                    Output Shape         Param #     Connected to                     \n",
            "==================================================================================================\n",
            "encoder_in (InputLayer)         [(None, 16)]         0                                            \n",
            "__________________________________________________________________________________________________\n",
            "embedding (Embedding)           (None, 16, 32)       2467904     encoder_in[0][0]                 \n",
            "__________________________________________________________________________________________________\n",
            "bidirectional (Bidirectional)   (None, 16, 128)      50176       embedding[0][0]                  \n",
            "__________________________________________________________________________________________________\n",
            "p_re_lu (PReLU)                 (None, 16, 128)      2048        bidirectional[0][0]              \n",
            "__________________________________________________________________________________________________\n",
            "decoder_in (InputLayer)         [(None, 256)]        0                                            \n",
            "__________________________________________________________________________________________________\n",
            "dropout (Dropout)               (None, 16, 128)      0           p_re_lu[0][0]                    \n",
            "__________________________________________________________________________________________________\n",
            "embedding_1 (Embedding)         (None, 256, 128)     9871616     decoder_in[0][0]                 \n",
            "__________________________________________________________________________________________________\n",
            "concatenate (Concatenate)       (None, 272, 128)     0           dropout[0][0]                    \n",
            "                                                                 embedding_1[0][0]                \n",
            "__________________________________________________________________________________________________\n",
            "bidirectional_1 (Bidirectional) (None, 272, 512)     790528      concatenate[0][0]                \n",
            "__________________________________________________________________________________________________\n",
            "p_re_lu_1 (PReLU)               (None, 272, 512)     139264      bidirectional_1[0][0]            \n",
            "__________________________________________________________________________________________________\n",
            "dropout_1 (Dropout)             (None, 272, 512)     0           p_re_lu_1[0][0]                  \n",
            "__________________________________________________________________________________________________\n",
            "p_re_lu_2 (PReLU)               (None, 272, 512)     139264      dropout_1[0][0]                  \n",
            "__________________________________________________________________________________________________\n",
            "dropout_2 (Dropout)             (None, 272, 512)     0           p_re_lu_2[0][0]                  \n",
            "__________________________________________________________________________________________________\n",
            "bidirectional_3 (Bidirectional) (None, 272, 512)     1576960     dropout_2[0][0]                  \n",
            "__________________________________________________________________________________________________\n",
            "p_re_lu_3 (PReLU)               (None, 272, 512)     139264      bidirectional_3[0][0]            \n",
            "__________________________________________________________________________________________________\n",
            "dropout_3 (Dropout)             (None, 272, 512)     0           p_re_lu_3[0][0]                  \n",
            "__________________________________________________________________________________________________\n",
            "global_average_pooling1d (Globa (None, 512)          0           dropout_3[0][0]                  \n",
            "__________________________________________________________________________________________________\n",
            "dense (Dense)                   (None, 512)          262656      global_average_pooling1d[0][0]   \n",
            "__________________________________________________________________________________________________\n",
            "dropout_4 (Dropout)             (None, 512)          0           dense[0][0]                      \n",
            "__________________________________________________________________________________________________\n",
            "dense_1 (Dense)                 (None, 256)          131328      dropout_4[0][0]                  \n",
            "__________________________________________________________________________________________________\n",
            "output (Dense)                  (None, 77122)        19820354    dense_1[0][0]                    \n",
            "==================================================================================================\n",
            "Total params: 35,391,362\n",
            "Trainable params: 35,391,362\n",
            "Non-trainable params: 0\n",
            "__________________________________________________________________________________________________\n"
          ],
          "name": "stdout"
        }
      ]
    },
    {
      "cell_type": "code",
      "metadata": {
        "id": "7kAsrH6XJ3Qv",
        "colab_type": "code",
        "colab": {
          "base_uri": "https://localhost:8080/",
          "height": 1000
        },
        "outputId": "d591839d-e26b-480c-a083-84a832964455"
      },
      "source": [
        "tf.keras.utils.plot_model(model, to_file='model.png', show_shapes=False, show_layer_names=True, rankdir='TB', expand_nested=False, dpi=60)"
      ],
      "execution_count": 20,
      "outputs": [
        {
          "output_type": "execute_result",
          "data": {
            "image/png": "[encoded data removed]",
            "text/plain": [
              "<IPython.core.display.Image object>"
            ]
          },
          "metadata": {
            "tags": []
          },
          "execution_count": 20
        }
      ]
    },
    {
      "cell_type": "code",
      "metadata": {
        "id": "eVNc75GlVgMP",
        "colab_type": "code",
        "colab": {}
      },
      "source": [
        "model.compile(optimizer = 'adam', \n",
        "              loss = {'output': 'categorical_crossentropy'},\n",
        "              metrics = {'output': \"accuracy\"}) "
      ],
      "execution_count": 21,
      "outputs": []
    },
    {
      "cell_type": "markdown",
      "metadata": {
        "id": "UAN-zwkmkp55",
        "colab_type": "text"
      },
      "source": [
        "# Train"
      ]
    },
    {
      "cell_type": "code",
      "metadata": {
        "id": "35M3PCrvfcCT",
        "colab_type": "code",
        "colab": {}
      },
      "source": [
        "def make_sequence_steps(text):\n",
        "\n",
        "    seqs = []\n",
        "    for words in text:\n",
        "        seq = [word_to_int[word] for word in words]\n",
        "        while len(seq) != max_steps_len:\n",
        "            seq.append(0)\n",
        "        seqs.append(seq)\n",
        "    return seqs\n",
        "\n",
        "def make_sequence_name(text):\n",
        "\n",
        "    seqs = []\n",
        "    for words in text:\n",
        "        seq = [word_to_int[word] for word in words]\n",
        "        while len(seq) != max_name_len:\n",
        "            seq.append(0)\n",
        "        seqs.append(seq)\n",
        "    return seqs"
      ],
      "execution_count": 22,
      "outputs": []
    },
    {
      "cell_type": "code",
      "metadata": {
        "id": "8-JkE000ARZY",
        "colab_type": "code",
        "colab": {}
      },
      "source": [
        "batch_siz = 5000\n",
        "\n",
        "def make_data(df, start1, start2):\n",
        "\n",
        "    last = False\n",
        "    steps_broken = []\n",
        "    next_words = []\n",
        "    names = []\n",
        "    for idx in range(start1, len(df)): # start from where left off until end of data\n",
        "        steps = df.steps.iloc[idx] # [\"<start>\", \"preheat\", \"oven\", ... , \"<end>\"]\n",
        "        for cutoff in range(start2, len(steps)-1): # start from where left off until end of recipe steps word list\n",
        "            if len(steps_broken) < batch_siz:\n",
        "                steps_broken.append(steps[:cutoff+1]) # [[\"<start>\"], [\"<start>\", \"preheat\"], [\"<start>\", \"preheat\", \"oven\"], ..., [\"<start>\", \"preheat\", \"oven\", ...]] # does not include EOS\n",
        "                next_words.append(steps[cutoff+1]) # [\"preheat\", \"oven\", ... , \"<end>\"] # does not include SOS\n",
        "                names.append(df.name.iloc[idx]) # [[<start>, dutch, leek, casserol, <end>], [<start>, dutch, leek, casserol, <end>], [<start>, dutch, leek, casserol, <end>], ...]\n",
        "            else:\n",
        "                return steps_broken, next_words, names, idx, cutoff, last\n",
        "        start2 = 0\n",
        "\n",
        "    last = True\n",
        "    return steps_broken, next_words, names, idx, cutoff, last"
      ],
      "execution_count": 23,
      "outputs": []
    },
    {
      "cell_type": "code",
      "metadata": {
        "id": "cXIHK_eeGmrr",
        "colab_type": "code",
        "colab": {}
      },
      "source": [
        "def make_recipe(name):\n",
        "\n",
        "    name = name.translate(str.maketrans('', '', string.punctuation)).lower()\n",
        "\n",
        "    name_in = process_text(name)\n",
        "\n",
        "    if len(name_in) > 16:\n",
        "        print(\"name has to be 14 words or less\")\n",
        "        return\n",
        "\n",
        "    try:\n",
        "        name_in = [word_to_int[word] for word in name_in]\n",
        "    except:\n",
        "        print(\"oops, one of the words entered is not in my vocabulary\")\n",
        "        return\n",
        "\n",
        "    while len(name_in) != max_name_len:\n",
        "        name_in.append(0)\n",
        "    name_in = np.array(name_in, dtype=\"int32\")\n",
        "\n",
        "    steps_in = np.zeros(max_steps_len, dtype=\"int32\")\n",
        "    steps_in[0] = word_to_int[\"<start>\"]\n",
        "\n",
        "    preds = []\n",
        "    for idx in range(1, max_steps_len):\n",
        "\n",
        "        pred_int = np.argmax(model.predict({'encoder_in': name_in.reshape(1, max_name_len,), \n",
        "                                            'decoder_in': steps_in.reshape(1, max_steps_len,)}))\n",
        "        next_pred_word = int_to_word[pred_int]\n",
        "\n",
        "        if next_pred_word == \"<end>\":\n",
        "            return preds\n",
        "        else:\n",
        "            preds.append(next_pred_word)\n",
        "\n",
        "        steps_in[idx] = pred_int\n",
        "        \n",
        "    return ' '.join(preds)"
      ],
      "execution_count": 24,
      "outputs": []
    },
    {
      "cell_type": "code",
      "metadata": {
        "id": "Atg10lw6EAiL",
        "colab_type": "code",
        "colab": {}
      },
      "source": [
        "epochz = 1\n",
        "\n",
        "for epoch in range(epochz): \n",
        "\n",
        "    #batch_num = 0\n",
        "\n",
        "    print(\"\\nStarting Epoch:\", epoch+1)\n",
        "\n",
        "    start1 = 0\n",
        "    start2 = 0\n",
        "    while True:\n",
        "\n",
        "        #if batch_num % 100 == 0:\n",
        "            #print(make_recipe(\"Santa's Christmas Chocolate-Chip Cookies\"))\n",
        "        #batch_num += 1\n",
        "\n",
        "        steps, next_words, names, start1, start2, last = make_data(data, start1, start2)\n",
        "\n",
        "        names_seqs = np.array(make_sequence_name(names), dtype=\"int32\")\n",
        "        steps_seqs = np.array(make_sequence_steps(steps), dtype=\"int32\")\n",
        "        next_words = tf.keras.utils.to_categorical([word_to_int[word] for word in next_words], num_classes=num_words, dtype='int32')\n",
        "\n",
        "        model.fit({'encoder_in': names_seqs, \n",
        "                   'decoder_in': steps_seqs},\n",
        "                  {'output': next_words},\n",
        "                  shuffle=True, \n",
        "                  epochs=1, \n",
        "                  batch_size=512)\n",
        "\n",
        "        if last:\n",
        "            break"
      ],
      "execution_count": null,
      "outputs": []
    },
    {
      "cell_type": "code",
      "metadata": {
        "id": "sHB-zk5taXB8",
        "colab_type": "code",
        "colab": {}
      },
      "source": [
        "model.save_weights(\"gordon-ramsAI.hdf5\")\n",
        "from google.colab import files\n",
        "files.download(\"gordon-ramsAI.hdf5\")"
      ],
      "execution_count": null,
      "outputs": []
    },
    {
      "cell_type": "markdown",
      "metadata": {
        "id": "b6eRCWciksgm",
        "colab_type": "text"
      },
      "source": [
        "# Make New Recipes"
      ]
    },
    {
      "cell_type": "code",
      "metadata": {
        "id": "5b07xLrHG54-",
        "colab_type": "code",
        "colab": {}
      },
      "source": [
        "make_recipe(\"Veggie Burrito\")"
      ],
      "execution_count": null,
      "outputs": []
    },
    {
      "cell_type": "code",
      "metadata": {
        "id": "YYljCup_HqQ5",
        "colab_type": "code",
        "colab": {}
      },
      "source": [
        ""
      ],
      "execution_count": null,
      "outputs": []
    }
  ]
}