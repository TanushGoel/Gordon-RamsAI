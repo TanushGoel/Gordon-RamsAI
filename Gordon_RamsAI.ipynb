{
  "nbformat": 4,
  "nbformat_minor": 0,
  "metadata": {
    "colab": {
      "name": "Gordon RamsAI",
      "provenance": [],
      "collapsed_sections": [],
      "authorship_tag": "ABX9TyME+1zzSpsb2J/T/jNrvppp",
      "include_colab_link": true
    },
    "kernelspec": {
      "name": "python3",
      "display_name": "Python 3"
    },
    "accelerator": "GPU"
  },
  "cells": [
    {
      "cell_type": "markdown",
      "metadata": {
        "id": "view-in-github",
        "colab_type": "text"
      },
      "source": [
        "<a href=\"https://colab.research.google.com/github/TanushGoel/Gordon-RamsAI/blob/master/Gordon_RamsAI.ipynb\" target=\"_parent\"><img src=\"https://colab.research.google.com/assets/colab-badge.svg\" alt=\"Open In Colab\"/></a>"
      ]
    },
    {
      "cell_type": "code",
      "metadata": {
        "id": "XXtoaiTxCayy",
        "colab_type": "code",
        "colab": {}
      },
      "source": [
        "!unzip -q -o \"recipes_data.zip\""
      ],
      "execution_count": 1,
      "outputs": []
    },
    {
      "cell_type": "code",
      "metadata": {
        "id": "Ugmq3DN0C4bz",
        "colab_type": "code",
        "colab": {
          "base_uri": "https://localhost:8080/",
          "height": 306
        },
        "outputId": "9ada82cf-7441-4924-cd56-f528fc513afc"
      },
      "source": [
        "import pandas as pd\n",
        "\n",
        "recipes = pd.read_csv(\"recipes_data/RAW_recipes.csv\")\n",
        "recipes[\"steps\"] = [eval(recipe_steps) for recipe_steps in recipes[\"steps\"]] # convert list-formatted string into a list\n",
        "recipes[\"steps\"] = [\" \".join(steps) for steps in recipes[\"steps\"]] # turn the steps into a single string\n",
        "print(len(recipes))\n",
        "recipes.head()"
      ],
      "execution_count": 1,
      "outputs": [
        {
          "output_type": "stream",
          "text": [
            "231637\n"
          ],
          "name": "stdout"
        },
        {
          "output_type": "execute_result",
          "data": {
            "text/html": [
              "<div>\n",
              "<style scoped>\n",
              "    .dataframe tbody tr th:only-of-type {\n",
              "        vertical-align: middle;\n",
              "    }\n",
              "\n",
              "    .dataframe tbody tr th {\n",
              "        vertical-align: top;\n",
              "    }\n",
              "\n",
              "    .dataframe thead th {\n",
              "        text-align: right;\n",
              "    }\n",
              "</style>\n",
              "<table border=\"1\" class=\"dataframe\">\n",
              "  <thead>\n",
              "    <tr style=\"text-align: right;\">\n",
              "      <th></th>\n",
              "      <th>name</th>\n",
              "      <th>id</th>\n",
              "      <th>minutes</th>\n",
              "      <th>contributor_id</th>\n",
              "      <th>submitted</th>\n",
              "      <th>tags</th>\n",
              "      <th>nutrition</th>\n",
              "      <th>n_steps</th>\n",
              "      <th>steps</th>\n",
              "      <th>description</th>\n",
              "      <th>ingredients</th>\n",
              "      <th>n_ingredients</th>\n",
              "    </tr>\n",
              "  </thead>\n",
              "  <tbody>\n",
              "    <tr>\n",
              "      <th>0</th>\n",
              "      <td>arriba   baked winter squash mexican style</td>\n",
              "      <td>137739</td>\n",
              "      <td>55</td>\n",
              "      <td>47892</td>\n",
              "      <td>2005-09-16</td>\n",
              "      <td>['60-minutes-or-less', 'time-to-make', 'course...</td>\n",
              "      <td>[51.5, 0.0, 13.0, 0.0, 2.0, 0.0, 4.0]</td>\n",
              "      <td>11</td>\n",
              "      <td>make a choice and proceed with recipe dependin...</td>\n",
              "      <td>autumn is my favorite time of year to cook! th...</td>\n",
              "      <td>['winter squash', 'mexican seasoning', 'mixed ...</td>\n",
              "      <td>7</td>\n",
              "    </tr>\n",
              "    <tr>\n",
              "      <th>1</th>\n",
              "      <td>a bit different  breakfast pizza</td>\n",
              "      <td>31490</td>\n",
              "      <td>30</td>\n",
              "      <td>26278</td>\n",
              "      <td>2002-06-17</td>\n",
              "      <td>['30-minutes-or-less', 'time-to-make', 'course...</td>\n",
              "      <td>[173.4, 18.0, 0.0, 17.0, 22.0, 35.0, 1.0]</td>\n",
              "      <td>9</td>\n",
              "      <td>preheat oven to 425 degrees f press dough into...</td>\n",
              "      <td>this recipe calls for the crust to be prebaked...</td>\n",
              "      <td>['prepared pizza crust', 'sausage patty', 'egg...</td>\n",
              "      <td>6</td>\n",
              "    </tr>\n",
              "    <tr>\n",
              "      <th>2</th>\n",
              "      <td>all in the kitchen  chili</td>\n",
              "      <td>112140</td>\n",
              "      <td>130</td>\n",
              "      <td>196586</td>\n",
              "      <td>2005-02-25</td>\n",
              "      <td>['time-to-make', 'course', 'preparation', 'mai...</td>\n",
              "      <td>[269.8, 22.0, 32.0, 48.0, 39.0, 27.0, 5.0]</td>\n",
              "      <td>6</td>\n",
              "      <td>brown ground beef in large pot add chopped oni...</td>\n",
              "      <td>this modified version of 'mom's' chili was a h...</td>\n",
              "      <td>['ground beef', 'yellow onions', 'diced tomato...</td>\n",
              "      <td>13</td>\n",
              "    </tr>\n",
              "    <tr>\n",
              "      <th>3</th>\n",
              "      <td>alouette  potatoes</td>\n",
              "      <td>59389</td>\n",
              "      <td>45</td>\n",
              "      <td>68585</td>\n",
              "      <td>2003-04-14</td>\n",
              "      <td>['60-minutes-or-less', 'time-to-make', 'course...</td>\n",
              "      <td>[368.1, 17.0, 10.0, 2.0, 14.0, 8.0, 20.0]</td>\n",
              "      <td>11</td>\n",
              "      <td>place potatoes in a large pot of lightly salte...</td>\n",
              "      <td>this is a super easy, great tasting, make ahea...</td>\n",
              "      <td>['spreadable cheese with garlic and herbs', 'n...</td>\n",
              "      <td>11</td>\n",
              "    </tr>\n",
              "    <tr>\n",
              "      <th>4</th>\n",
              "      <td>amish  tomato ketchup  for canning</td>\n",
              "      <td>44061</td>\n",
              "      <td>190</td>\n",
              "      <td>41706</td>\n",
              "      <td>2002-10-25</td>\n",
              "      <td>['weeknight', 'time-to-make', 'course', 'main-...</td>\n",
              "      <td>[352.9, 1.0, 337.0, 23.0, 3.0, 0.0, 28.0]</td>\n",
              "      <td>5</td>\n",
              "      <td>mix all ingredients&amp; boil for 2 1 / 2 hours , ...</td>\n",
              "      <td>my dh's amish mother raised him on this recipe...</td>\n",
              "      <td>['tomato juice', 'apple cider vinegar', 'sugar...</td>\n",
              "      <td>8</td>\n",
              "    </tr>\n",
              "  </tbody>\n",
              "</table>\n",
              "</div>"
            ],
            "text/plain": [
              "                                         name  ...  n_ingredients\n",
              "0  arriba   baked winter squash mexican style  ...              7\n",
              "1            a bit different  breakfast pizza  ...              6\n",
              "2                   all in the kitchen  chili  ...             13\n",
              "3                          alouette  potatoes  ...             11\n",
              "4          amish  tomato ketchup  for canning  ...              8\n",
              "\n",
              "[5 rows x 12 columns]"
            ]
          },
          "metadata": {
            "tags": []
          },
          "execution_count": 1
        }
      ]
    },
    {
      "cell_type": "code",
      "metadata": {
        "id": "Ehay3tmFDsED",
        "colab_type": "code",
        "colab": {
          "base_uri": "https://localhost:8080/",
          "height": 221
        },
        "outputId": "2711d0a2-312c-4c3c-ea7a-180596ad9c09"
      },
      "source": [
        "interactions = pd.read_csv(\"recipes_data/RAW_interactions.csv\")\n",
        "print(len(interactions))\n",
        "interactions.head()"
      ],
      "execution_count": 2,
      "outputs": [
        {
          "output_type": "stream",
          "text": [
            "1132367\n"
          ],
          "name": "stdout"
        },
        {
          "output_type": "execute_result",
          "data": {
            "text/html": [
              "<div>\n",
              "<style scoped>\n",
              "    .dataframe tbody tr th:only-of-type {\n",
              "        vertical-align: middle;\n",
              "    }\n",
              "\n",
              "    .dataframe tbody tr th {\n",
              "        vertical-align: top;\n",
              "    }\n",
              "\n",
              "    .dataframe thead th {\n",
              "        text-align: right;\n",
              "    }\n",
              "</style>\n",
              "<table border=\"1\" class=\"dataframe\">\n",
              "  <thead>\n",
              "    <tr style=\"text-align: right;\">\n",
              "      <th></th>\n",
              "      <th>user_id</th>\n",
              "      <th>recipe_id</th>\n",
              "      <th>date</th>\n",
              "      <th>rating</th>\n",
              "      <th>review</th>\n",
              "    </tr>\n",
              "  </thead>\n",
              "  <tbody>\n",
              "    <tr>\n",
              "      <th>0</th>\n",
              "      <td>38094</td>\n",
              "      <td>40893</td>\n",
              "      <td>2003-02-17</td>\n",
              "      <td>4</td>\n",
              "      <td>Great with a salad. Cooked on top of stove for...</td>\n",
              "    </tr>\n",
              "    <tr>\n",
              "      <th>1</th>\n",
              "      <td>1293707</td>\n",
              "      <td>40893</td>\n",
              "      <td>2011-12-21</td>\n",
              "      <td>5</td>\n",
              "      <td>So simple, so delicious! Great for chilly fall...</td>\n",
              "    </tr>\n",
              "    <tr>\n",
              "      <th>2</th>\n",
              "      <td>8937</td>\n",
              "      <td>44394</td>\n",
              "      <td>2002-12-01</td>\n",
              "      <td>4</td>\n",
              "      <td>This worked very well and is EASY.  I used not...</td>\n",
              "    </tr>\n",
              "    <tr>\n",
              "      <th>3</th>\n",
              "      <td>126440</td>\n",
              "      <td>85009</td>\n",
              "      <td>2010-02-27</td>\n",
              "      <td>5</td>\n",
              "      <td>I made the Mexican topping and took it to bunk...</td>\n",
              "    </tr>\n",
              "    <tr>\n",
              "      <th>4</th>\n",
              "      <td>57222</td>\n",
              "      <td>85009</td>\n",
              "      <td>2011-10-01</td>\n",
              "      <td>5</td>\n",
              "      <td>Made the cheddar bacon topping, adding a sprin...</td>\n",
              "    </tr>\n",
              "  </tbody>\n",
              "</table>\n",
              "</div>"
            ],
            "text/plain": [
              "   user_id  ...                                             review\n",
              "0    38094  ...  Great with a salad. Cooked on top of stove for...\n",
              "1  1293707  ...  So simple, so delicious! Great for chilly fall...\n",
              "2     8937  ...  This worked very well and is EASY.  I used not...\n",
              "3   126440  ...  I made the Mexican topping and took it to bunk...\n",
              "4    57222  ...  Made the cheddar bacon topping, adding a sprin...\n",
              "\n",
              "[5 rows x 5 columns]"
            ]
          },
          "metadata": {
            "tags": []
          },
          "execution_count": 2
        }
      ]
    },
    {
      "cell_type": "code",
      "metadata": {
        "id": "BQ6617njehE1",
        "colab_type": "code",
        "colab": {}
      },
      "source": [
        "averaged_ratings = [] # create averaged ratings for each recipe from the interactions data\n",
        "for id in recipes.id:\n",
        "    all_ratings = interactions.loc[interactions['recipe_id'] == id].rating\n",
        "    averaged_ratings.append(sum(all_ratings) / len(all_ratings))"
      ],
      "execution_count": 3,
      "outputs": []
    },
    {
      "cell_type": "code",
      "metadata": {
        "id": "E6ZsGEW1IlKQ",
        "colab_type": "code",
        "colab": {
          "base_uri": "https://localhost:8080/",
          "height": 221
        },
        "outputId": "fc54db3e-c989-466d-d805-d643f9519f5a"
      },
      "source": [
        "import string \n",
        "\n",
        "data = pd.DataFrame({\"name\": [str(name).lower() for name in recipes[\"name\"]],\n",
        "                     \"steps\": [''.join(c for c in s.lower() if c not in string.punctuation) for s in recipes[\"steps\"]],  \n",
        "                     \"rating\": averaged_ratings})\n",
        "data = data[data['rating'] >= 3.25].drop('rating', axis=1) # only keep the recipes with an average rating of 3.25 or higher\n",
        "data = data.sample(frac=1).reset_index(drop=True) # shuffle dataframe\n",
        "del recipes, interactions, averaged_ratings\n",
        "print(len(data))\n",
        "data.head()"
      ],
      "execution_count": 4,
      "outputs": [
        {
          "output_type": "stream",
          "text": [
            "207866\n"
          ],
          "name": "stdout"
        },
        {
          "output_type": "execute_result",
          "data": {
            "text/html": [
              "<div>\n",
              "<style scoped>\n",
              "    .dataframe tbody tr th:only-of-type {\n",
              "        vertical-align: middle;\n",
              "    }\n",
              "\n",
              "    .dataframe tbody tr th {\n",
              "        vertical-align: top;\n",
              "    }\n",
              "\n",
              "    .dataframe thead th {\n",
              "        text-align: right;\n",
              "    }\n",
              "</style>\n",
              "<table border=\"1\" class=\"dataframe\">\n",
              "  <thead>\n",
              "    <tr style=\"text-align: right;\">\n",
              "      <th></th>\n",
              "      <th>name</th>\n",
              "      <th>steps</th>\n",
              "    </tr>\n",
              "  </thead>\n",
              "  <tbody>\n",
              "    <tr>\n",
              "      <th>0</th>\n",
              "      <td>breakfast ham casserole</td>\n",
              "      <td>beat eggs  add cooled sausage or ham add other...</td>\n",
              "    </tr>\n",
              "    <tr>\n",
              "      <th>1</th>\n",
              "      <td>oyster dressing to die for</td>\n",
              "      <td>preheat oven to 350f to make cornbread  combin...</td>\n",
              "    </tr>\n",
              "    <tr>\n",
              "      <th>2</th>\n",
              "      <td>dutch leek casserole</td>\n",
              "      <td>preheat oven to 350 degrees f bring a large po...</td>\n",
              "    </tr>\n",
              "    <tr>\n",
              "      <th>3</th>\n",
              "      <td>salmon with fennel</td>\n",
              "      <td>thinly slice both the onion and the fennel bul...</td>\n",
              "    </tr>\n",
              "    <tr>\n",
              "      <th>4</th>\n",
              "      <td>banana   filled chocolate enchiladas</td>\n",
              "      <td>for the crepes whisk together all of the dry i...</td>\n",
              "    </tr>\n",
              "  </tbody>\n",
              "</table>\n",
              "</div>"
            ],
            "text/plain": [
              "                                   name                                              steps\n",
              "0               breakfast ham casserole  beat eggs  add cooled sausage or ham add other...\n",
              "1            oyster dressing to die for  preheat oven to 350f to make cornbread  combin...\n",
              "2                  dutch leek casserole  preheat oven to 350 degrees f bring a large po...\n",
              "3                    salmon with fennel  thinly slice both the onion and the fennel bul...\n",
              "4  banana   filled chocolate enchiladas  for the crepes whisk together all of the dry i..."
            ]
          },
          "metadata": {
            "tags": []
          },
          "execution_count": 4
        }
      ]
    },
    {
      "cell_type": "code",
      "metadata": {
        "id": "TqLxsWtn0E0h",
        "colab_type": "code",
        "colab": {
          "base_uri": "https://localhost:8080/",
          "height": 337
        },
        "outputId": "7daafe87-940d-442d-a1be-f70385d28732"
      },
      "source": [
        "# visualize amount of words in recipe steps\n",
        "import numpy as np\n",
        "pd.DataFrame([len(text.split()) for text in data.steps])[0].hist(bins=np.arange(start=0, stop=750, step=1), figsize=[25,5])"
      ],
      "execution_count": 5,
      "outputs": [
        {
          "output_type": "execute_result",
          "data": {
            "text/plain": [
              "<matplotlib.axes._subplots.AxesSubplot at 0x7f246a4b1748>"
            ]
          },
          "metadata": {
            "tags": []
          },
          "execution_count": 5
        },
        {
          "output_type": "display_data",
          "data": {
            "image/png": "[encoded data removed]",
            "text/plain": [
              "<Figure size 1800x360 with 1 Axes>"
            ]
          },
          "metadata": {
            "tags": [],
            "needs_background": "light"
          }
        }
      ]
    },
    {
      "cell_type": "code",
      "metadata": {
        "id": "VlICLE_C3WBv",
        "colab_type": "code",
        "colab": {
          "base_uri": "https://localhost:8080/",
          "height": 337
        },
        "outputId": "547ca963-23cb-487c-d383-a49fdfa5bf1a"
      },
      "source": [
        "# visualize amount of words in recipe names\n",
        "pd.DataFrame([len(text.split()) for text in data.name])[0].hist(bins=np.arange(start=0, stop=50, step=1), figsize=[25,5])"
      ],
      "execution_count": 6,
      "outputs": [
        {
          "output_type": "execute_result",
          "data": {
            "text/plain": [
              "<matplotlib.axes._subplots.AxesSubplot at 0x7f2466205828>"
            ]
          },
          "metadata": {
            "tags": []
          },
          "execution_count": 6
        },
        {
          "output_type": "display_data",
          "data": {
            "image/png": "[encoded data removed]",
            "text/plain": [
              "<Figure size 1800x360 with 1 Axes>"
            ]
          },
          "metadata": {
            "tags": [],
            "needs_background": "light"
          }
        }
      ]
    },
    {
      "cell_type": "code",
      "metadata": {
        "id": "5pIHziiF31Z5",
        "colab_type": "code",
        "colab": {
          "base_uri": "https://localhost:8080/",
          "height": 34
        },
        "outputId": "570835cf-2477-4c74-8c8b-bc7c126894eb"
      },
      "source": [
        "max_steps_len = 256\n",
        "max_name_len = 16\n",
        "\n",
        "data = data[data['steps'].str.split().str.len().le(max_steps_len-2)] # subtract two for SOS and EOS tokens\n",
        "data = data[data['name'].str.split().str.len().le(max_name_len-2)] # subtract two for SOS and EOS tokens\n",
        "len(data)"
      ],
      "execution_count": 7,
      "outputs": [
        {
          "output_type": "execute_result",
          "data": {
            "text/plain": [
              "201619"
            ]
          },
          "metadata": {
            "tags": []
          },
          "execution_count": 7
        }
      ]
    },
    {
      "cell_type": "code",
      "metadata": {
        "id": "B_IwdJfUoug-",
        "colab_type": "code",
        "colab": {
          "base_uri": "https://localhost:8080/",
          "height": 238
        },
        "outputId": "06ce160e-1fb8-4d45-aa0a-7856d864cfe8"
      },
      "source": [
        "import nltk\n",
        "!python -m nltk.downloader all  -q\n",
        "\n",
        "from nltk.tokenize import word_tokenize\n",
        "from nltk.stem.porter import PorterStemmer\n",
        "porter = PorterStemmer()\n",
        "\n",
        "def process_text(text):\n",
        "\n",
        "    tokens = word_tokenize(text) # break into words\n",
        "    stemmed = [porter.stem(word) for word in tokens] # stemming = process of reducing a word to its root or base --> “fishing,” “fished,” “fisher” all reduce to the stem “fish”\n",
        "    stemmed.insert(0, \"<start>\")\n",
        "    stemmed.append(\"<end>\")\n",
        "\n",
        "    return stemmed\n",
        "\n",
        "data.steps = data.steps.apply(process_text)\n",
        "data.name = data.name.apply(process_text)\n",
        "data.head()"
      ],
      "execution_count": 8,
      "outputs": [
        {
          "output_type": "stream",
          "text": [
            "/usr/lib/python3.6/runpy.py:125: RuntimeWarning: 'nltk.downloader' found in sys.modules after import of package 'nltk', but prior to execution of 'nltk.downloader'; this may result in unpredictable behaviour\n",
            "  warn(RuntimeWarning(msg))\n"
          ],
          "name": "stdout"
        },
        {
          "output_type": "execute_result",
          "data": {
            "text/html": [
              "<div>\n",
              "<style scoped>\n",
              "    .dataframe tbody tr th:only-of-type {\n",
              "        vertical-align: middle;\n",
              "    }\n",
              "\n",
              "    .dataframe tbody tr th {\n",
              "        vertical-align: top;\n",
              "    }\n",
              "\n",
              "    .dataframe thead th {\n",
              "        text-align: right;\n",
              "    }\n",
              "</style>\n",
              "<table border=\"1\" class=\"dataframe\">\n",
              "  <thead>\n",
              "    <tr style=\"text-align: right;\">\n",
              "      <th></th>\n",
              "      <th>name</th>\n",
              "      <th>steps</th>\n",
              "    </tr>\n",
              "  </thead>\n",
              "  <tbody>\n",
              "    <tr>\n",
              "      <th>0</th>\n",
              "      <td>[&lt;start&gt;, breakfast, ham, casserol, &lt;end&gt;]</td>\n",
              "      <td>[&lt;start&gt;, beat, egg, add, cool, sausag, or, ha...</td>\n",
              "    </tr>\n",
              "    <tr>\n",
              "      <th>1</th>\n",
              "      <td>[&lt;start&gt;, oyster, dress, to, die, for, &lt;end&gt;]</td>\n",
              "      <td>[&lt;start&gt;, preheat, oven, to, 350f, to, make, c...</td>\n",
              "    </tr>\n",
              "    <tr>\n",
              "      <th>2</th>\n",
              "      <td>[&lt;start&gt;, dutch, leek, casserol, &lt;end&gt;]</td>\n",
              "      <td>[&lt;start&gt;, preheat, oven, to, 350, degre, f, br...</td>\n",
              "    </tr>\n",
              "    <tr>\n",
              "      <th>3</th>\n",
              "      <td>[&lt;start&gt;, salmon, with, fennel, &lt;end&gt;]</td>\n",
              "      <td>[&lt;start&gt;, thinli, slice, both, the, onion, and...</td>\n",
              "    </tr>\n",
              "    <tr>\n",
              "      <th>4</th>\n",
              "      <td>[&lt;start&gt;, banana, fill, chocol, enchilada, &lt;end&gt;]</td>\n",
              "      <td>[&lt;start&gt;, for, the, crepe, whisk, togeth, all,...</td>\n",
              "    </tr>\n",
              "  </tbody>\n",
              "</table>\n",
              "</div>"
            ],
            "text/plain": [
              "                                                name                                              steps\n",
              "0         [<start>, breakfast, ham, casserol, <end>]  [<start>, beat, egg, add, cool, sausag, or, ha...\n",
              "1      [<start>, oyster, dress, to, die, for, <end>]  [<start>, preheat, oven, to, 350f, to, make, c...\n",
              "2            [<start>, dutch, leek, casserol, <end>]  [<start>, preheat, oven, to, 350, degre, f, br...\n",
              "3             [<start>, salmon, with, fennel, <end>]  [<start>, thinli, slice, both, the, onion, and...\n",
              "4  [<start>, banana, fill, chocol, enchilada, <end>]  [<start>, for, the, crepe, whisk, togeth, all,..."
            ]
          },
          "metadata": {
            "tags": []
          },
          "execution_count": 8
        }
      ]
    },
    {
      "cell_type": "code",
      "metadata": {
        "id": "Y9kZBYXj4aD-",
        "colab_type": "code",
        "colab": {
          "base_uri": "https://localhost:8080/",
          "height": 54
        },
        "outputId": "2c67223b-5551-49fa-d9e0-37b97e3bd955"
      },
      "source": [
        "print(data.steps[0])"
      ],
      "execution_count": 9,
      "outputs": [
        {
          "output_type": "stream",
          "text": [
            "['<start>', 'beat', 'egg', 'add', 'cool', 'sausag', 'or', 'ham', 'add', 'other', 'ingredi', 'pour', 'into', '9x13in', 'pyrex', 'dish', 'cover', 'with', 'saran', 'wrap', 'and', 'refriger', 'overnight', 'let', 'sit', 'out', 'one', 'hour', 'befor', 'bake', 'bake', 'at', '350f', 'until', 'puf', 'and', 'lightli', 'brown', '<end>']\n"
          ],
          "name": "stdout"
        }
      ]
    },
    {
      "cell_type": "code",
      "metadata": {
        "id": "jXXqYKKBRFJo",
        "colab_type": "code",
        "colab": {
          "base_uri": "https://localhost:8080/",
          "height": 51
        },
        "outputId": "3a2092a5-6fdd-4105-9d80-794b5566f860"
      },
      "source": [
        "print(data.steps.map(lambda x: len(x)).max()) # 256\n",
        "print(data.name.map(lambda x: len(x)).max()) # 16"
      ],
      "execution_count": 10,
      "outputs": [
        {
          "output_type": "stream",
          "text": [
            "256\n",
            "16\n"
          ],
          "name": "stdout"
        }
      ]
    },
    {
      "cell_type": "code",
      "metadata": {
        "id": "-PT3lcF28Vk9",
        "colab_type": "code",
        "colab": {
          "base_uri": "https://localhost:8080/",
          "height": 71
        },
        "outputId": "736e11cb-4b3b-457c-9144-c9759b72bcc3"
      },
      "source": [
        "vocab = []\n",
        "for text in data.name + data.steps:\n",
        "    vocab += text\n",
        "vocab = list(set(vocab))\n",
        "word_to_int = dict(zip(vocab, range(1, len(vocab)+1)))\n",
        "int_to_word = {v: k for k, v in word_to_int.items()}\n",
        "print(len(vocab), \"words in vocab\")\n",
        "num_words = len(vocab)+1 # add one for padding 0's\n",
        "print(vocab[:100])"
      ],
      "execution_count": 11,
      "outputs": [
        {
          "output_type": "stream",
          "text": [
            "51503 words in vocab\n",
            "['checkpea', 'netmeg', 'microfib', 'beehoon', 'secsond', 'neeli', 'wonder', 'mediom', 'butterco', 'eintir', 'faintli', 'salttogeth', 'cheesesideup', 'fillingth', 'spitfir', 'leekgarl', 'nonwimpi', '1tbl', 'freezecool', 'everglad', 'mashti', 'siet', 'woolton', 'salsachees', 'cherrri', 'vach', 'crunch', 'rabe', 'pring', 'spagaga', 'gao', 'yelloworangeish', 'boulet', 'worchestrshir', 'egremont', 'whipp', 'nowherb', '5031', 'bulg', 'vegetab', 'floral', 'dariol', 'talerina', 'necklac', '2x2in', 'oast', 'watersoak', 'wame', 'fruitcaka', 'maynaiss', 'minxtur', 'panel', 'tofirm', 'potatoif', 'by2inch', 'sizeabl', 'beanjuic', 'maxin', 'parowax', 'eggss', 'piperati', 'easilyso', 'nonliquid', 'restart', 'swissrol', '324', 'talespoon', 'brussl', 'mim', 'journalist', 'deb', 'extravaganza', 'yeat', 'deseed', 'grownup', 'rem', 'too15', '19cmx19cm', 'feijo', 'carniv', '6090minut', 'derek', 'dought', '156', 'pareil', 'decatur', 'servewith', 'mchewek', 'sapphir', 'fetayogurt', 'pfeffernuss', 'andcrumbl', 'takea', 'anylong', 'mustardse', 'corrug', 'oso', 'syrian', 'jellyrollfashion', '120f130f']\n"
          ],
          "name": "stdout"
        }
      ]
    },
    {
      "cell_type": "code",
      "metadata": {
        "id": "fiPRuwGEI2MU",
        "colab_type": "code",
        "colab": {}
      },
      "source": [
        "# lstm model\n",
        "\n",
        "import tensorflow as tf\n",
        "from tensorflow.keras import layers\n",
        "from tensorflow.keras import Model\n",
        "from tensorflow.keras import initializers\n",
        "\n",
        "encoder_in = layers.Input(shape=(max_name_len,), dtype='int32', name='encoder_in')\n",
        "\n",
        "# encode the input sequence into a sequence of dense n-dimensional vectors\n",
        "embed_encoder = layers.Embedding(output_dim=32, input_dim=num_words, input_length=max_name_len)(encoder_in) \n",
        "\n",
        "# use LSTM to transform the vector sequence into a single vector containing information about the entire sequence\n",
        "lstm_encoder = tf.compat.v1.keras.layers.CuDNNLSTM(128, return_sequences=True, kernel_initializer=initializers.RandomNormal(stddev=0.2), bias_initializer=initializers.Zeros())(embed_encoder)\n",
        "activation1_encoder = layers.PReLU()(lstm_encoder)\n",
        "dropout1_encoder = layers.Dropout(0.1)(activation1_encoder)\n",
        "\n",
        "decoder_in = layers.Input(shape=(max_steps_len,), dtype='int32', name='decoder_in')\n",
        "\n",
        "# encode the input sequence into a sequence of dense n-dimensional vectors\n",
        "embed_decoder = layers.Embedding(output_dim=128, input_dim=num_words, input_length=max_name_len)(decoder_in) \n",
        "\n",
        "# concat encoder output with steps embeddings\n",
        "concat = layers.concatenate([dropout1_encoder, embed_decoder], axis=1)\n",
        "\n",
        "# use LSTM to transform the vector sequence into a single vector containing information about the entire sequence\n",
        "lstm_decoder = tf.compat.v1.keras.layers.CuDNNLSTM(256, return_sequences=True, kernel_initializer=initializers.RandomNormal(stddev=0.2), bias_initializer=initializers.Zeros())(concat)\n",
        "activation1_decoder = layers.PReLU()(lstm_decoder)\n",
        "dropout1_decoder = layers.Dropout(0.1)(activation1_decoder)\n",
        "lstm_decoder = tf.compat.v1.keras.layers.CuDNNLSTM(512, return_sequences=True, kernel_initializer=initializers.RandomNormal(stddev=0.2), bias_initializer=initializers.Zeros())(dropout1_decoder)\n",
        "activation2_decoder = layers.PReLU()(dropout1_decoder)\n",
        "dropout2_decoder = layers.Dropout(0.1)(activation2_decoder)\n",
        "lstm_decoder = tf.compat.v1.keras.layers.CuDNNLSTM(256, return_sequences=True, kernel_initializer=initializers.RandomNormal(stddev=0.2), bias_initializer=initializers.Zeros())(dropout2_decoder)\n",
        "activation3_decoder = layers.PReLU()(lstm_decoder)\n",
        "dropout3_decoder = layers.Dropout(0.1)(activation3_decoder)\n",
        "\n",
        "# turn into vector\n",
        "decoded_vec = layers.GlobalAveragePooling1D()(dropout3_decoder)\n",
        "\n",
        "# dense layers \n",
        "dense1 = layers.Dense(512, activation='relu')(decoded_vec)\n",
        "dropout1_dense = layers.Dropout(0.1)(dense1)\n",
        "dense2 = layers.Dense(256, activation='relu')(dropout1_dense)\n",
        "\n",
        "# output\n",
        "output = layers.Dense(num_words, activation=\"softmax\", name='output')(dense2) \n",
        "\n",
        "model = Model(inputs=[encoder_in, decoder_in], outputs=[output])\n",
        "\n",
        "model.summary()"
      ],
      "execution_count": null,
      "outputs": []
    },
    {
      "cell_type": "code",
      "metadata": {
        "id": "76BcX-dibhrK",
        "colab_type": "code",
        "colab": {
          "base_uri": "https://localhost:8080/",
          "height": 884
        },
        "outputId": "41e10ad0-ee5f-4b28-b6e7-0d5decec2176"
      },
      "source": [
        "# bidirectional lstm model\n",
        "\n",
        "import tensorflow as tf\n",
        "from tensorflow.keras import layers\n",
        "from tensorflow.keras import Model\n",
        "from tensorflow.keras import initializers\n",
        "\n",
        "encoder_in = layers.Input(shape=(max_name_len,), dtype='int32', name='encoder_in')\n",
        "\n",
        "# encode the input sequence into a sequence of dense n-dimensional vectors\n",
        "embed_encoder = layers.Embedding(output_dim=32, input_dim=num_words, input_length=max_name_len)(encoder_in) \n",
        "\n",
        "# use LSTM to transform the vector sequence into a single vector containing information about the entire sequence\n",
        "lstm_encoder = layers.Bidirectional(tf.compat.v1.keras.layers.CuDNNLSTM(64, return_sequences=True, kernel_initializer=initializers.RandomNormal(stddev=0.2), bias_initializer=initializers.Zeros()))(embed_encoder)\n",
        "activation1_encoder = layers.PReLU()(lstm_encoder)\n",
        "dropout1_encoder = layers.Dropout(0.1)(activation1_encoder)\n",
        "\n",
        "decoder_in = layers.Input(shape=(max_steps_len,), dtype='int32', name='decoder_in')\n",
        "\n",
        "# encode the input sequence into a sequence of dense n-dimensional vectors\n",
        "embed_decoder = layers.Embedding(output_dim=128, input_dim=num_words, input_length=max_name_len)(decoder_in) \n",
        "\n",
        "# concat encoder output with steps embeddings\n",
        "concat = layers.concatenate([dropout1_encoder, embed_decoder], axis=1)\n",
        "\n",
        "# use LSTM to transform the vector sequence into a single vector containing information about the entire sequence\n",
        "lstm_decoder = layers.Bidirectional(tf.compat.v1.keras.layers.CuDNNLSTM(256, return_sequences=True, kernel_initializer=initializers.RandomNormal(stddev=0.2), bias_initializer=initializers.Zeros()))(concat)\n",
        "activation1_decoder = layers.PReLU()(lstm_decoder)\n",
        "dropout1_decoder = layers.Dropout(0.1)(activation1_decoder)\n",
        "lstm_decoder = layers.Bidirectional(tf.compat.v1.keras.layers.CuDNNLSTM(512, return_sequences=True, kernel_initializer=initializers.RandomNormal(stddev=0.2), bias_initializer=initializers.Zeros()))(dropout1_decoder)\n",
        "activation2_decoder = layers.PReLU()(dropout1_decoder)\n",
        "dropout2_decoder = layers.Dropout(0.1)(activation2_decoder)\n",
        "lstm_decoder = layers.Bidirectional(tf.compat.v1.keras.layers.CuDNNLSTM(256, return_sequences=True, kernel_initializer=initializers.RandomNormal(stddev=0.2), bias_initializer=initializers.Zeros()))(dropout2_decoder)\n",
        "activation3_decoder = layers.PReLU()(lstm_decoder)\n",
        "dropout3_decoder = layers.Dropout(0.1)(activation3_decoder)\n",
        "\n",
        "# turn into vector\n",
        "decoded_vec = layers.GlobalAveragePooling1D()(dropout3_decoder)\n",
        "\n",
        "# dense layers \n",
        "dense1 = layers.Dense(512, activation='relu')(decoded_vec)\n",
        "dropout1_dense = layers.Dropout(0.1)(dense1)\n",
        "dense2 = layers.Dense(256, activation='relu')(dropout1_dense)\n",
        "\n",
        "# output\n",
        "output = layers.Dense(num_words, activation=\"softmax\", name='output')(dense2) \n",
        "\n",
        "model = Model(inputs=[encoder_in, decoder_in], outputs=[output])\n",
        "\n",
        "model.summary()"
      ],
      "execution_count": 47,
      "outputs": [
        {
          "output_type": "stream",
          "text": [
            "Model: \"functional_9\"\n",
            "__________________________________________________________________________________________________\n",
            "Layer (type)                    Output Shape         Param #     Connected to                     \n",
            "==================================================================================================\n",
            "encoder_in (InputLayer)         [(None, 16)]         0                                            \n",
            "__________________________________________________________________________________________________\n",
            "embedding_10 (Embedding)        (None, 16, 32)       1648128     encoder_in[0][0]                 \n",
            "__________________________________________________________________________________________________\n",
            "bidirectional_1 (Bidirectional) (None, 16, 128)      50176       embedding_10[0][0]               \n",
            "__________________________________________________________________________________________________\n",
            "p_re_lu_17 (PReLU)              (None, 16, 128)      2048        bidirectional_1[0][0]            \n",
            "__________________________________________________________________________________________________\n",
            "decoder_in (InputLayer)         [(None, 256)]        0                                            \n",
            "__________________________________________________________________________________________________\n",
            "dropout_21 (Dropout)            (None, 16, 128)      0           p_re_lu_17[0][0]                 \n",
            "__________________________________________________________________________________________________\n",
            "embedding_11 (Embedding)        (None, 256, 128)     6592512     decoder_in[0][0]                 \n",
            "__________________________________________________________________________________________________\n",
            "concatenate_5 (Concatenate)     (None, 272, 128)     0           dropout_21[0][0]                 \n",
            "                                                                 embedding_11[0][0]               \n",
            "__________________________________________________________________________________________________\n",
            "bidirectional_2 (Bidirectional) (None, 272, 512)     790528      concatenate_5[0][0]              \n",
            "__________________________________________________________________________________________________\n",
            "p_re_lu_18 (PReLU)              (None, 272, 512)     139264      bidirectional_2[0][0]            \n",
            "__________________________________________________________________________________________________\n",
            "dropout_22 (Dropout)            (None, 272, 512)     0           p_re_lu_18[0][0]                 \n",
            "__________________________________________________________________________________________________\n",
            "p_re_lu_19 (PReLU)              (None, 272, 512)     139264      dropout_22[0][0]                 \n",
            "__________________________________________________________________________________________________\n",
            "dropout_23 (Dropout)            (None, 272, 512)     0           p_re_lu_19[0][0]                 \n",
            "__________________________________________________________________________________________________\n",
            "bidirectional_4 (Bidirectional) (None, 272, 512)     1576960     dropout_23[0][0]                 \n",
            "__________________________________________________________________________________________________\n",
            "p_re_lu_20 (PReLU)              (None, 272, 512)     139264      bidirectional_4[0][0]            \n",
            "__________________________________________________________________________________________________\n",
            "dropout_24 (Dropout)            (None, 272, 512)     0           p_re_lu_20[0][0]                 \n",
            "__________________________________________________________________________________________________\n",
            "global_average_pooling1d_4 (Glo (None, 512)          0           dropout_24[0][0]                 \n",
            "__________________________________________________________________________________________________\n",
            "dense_8 (Dense)                 (None, 512)          262656      global_average_pooling1d_4[0][0] \n",
            "__________________________________________________________________________________________________\n",
            "dropout_25 (Dropout)            (None, 512)          0           dense_8[0][0]                    \n",
            "__________________________________________________________________________________________________\n",
            "dense_9 (Dense)                 (None, 256)          131328      dropout_25[0][0]                 \n",
            "__________________________________________________________________________________________________\n",
            "output (Dense)                  (None, 51504)        13236528    dense_9[0][0]                    \n",
            "==================================================================================================\n",
            "Total params: 24,708,656\n",
            "Trainable params: 24,708,656\n",
            "Non-trainable params: 0\n",
            "__________________________________________________________________________________________________\n"
          ],
          "name": "stdout"
        }
      ]
    },
    {
      "cell_type": "code",
      "metadata": {
        "id": "7kAsrH6XJ3Qv",
        "colab_type": "code",
        "colab": {
          "base_uri": "https://localhost:8080/",
          "height": 1000
        },
        "outputId": "33f33d46-677d-49f7-e980-7641532385d2"
      },
      "source": [
        "tf.keras.utils.plot_model(model, to_file='model.png', show_shapes=False, show_layer_names=True, rankdir='TB', expand_nested=False, dpi=60)"
      ],
      "execution_count": 48,
      "outputs": [
        {
          "output_type": "execute_result",
          "data": {
            "image/png": "[encoded data removed]",
            "text/plain": [
              "<IPython.core.display.Image object>"
            ]
          },
          "metadata": {
            "tags": []
          },
          "execution_count": 48
        }
      ]
    },
    {
      "cell_type": "code",
      "metadata": {
        "id": "eVNc75GlVgMP",
        "colab_type": "code",
        "colab": {}
      },
      "source": [
        "model.compile(optimizer = 'adam', \n",
        "              loss = {'output': 'categorical_crossentropy'},\n",
        "              metrics = {'output': \"accuracy\"}) "
      ],
      "execution_count": 49,
      "outputs": []
    },
    {
      "cell_type": "code",
      "metadata": {
        "id": "35M3PCrvfcCT",
        "colab_type": "code",
        "colab": {}
      },
      "source": [
        "def make_sequence_steps(text):\n",
        "\n",
        "    seqs = []\n",
        "    for words in text:\n",
        "        seq = [word_to_int[word] for word in words]\n",
        "        while len(seq) != max_steps_len:\n",
        "            seq.append(0)\n",
        "        seqs.append(seq)\n",
        "    return seqs\n",
        "\n",
        "def make_sequence_name(text):\n",
        "\n",
        "    seqs = []\n",
        "    for words in text:\n",
        "        seq = [word_to_int[word] for word in words]\n",
        "        while len(seq) != max_name_len:\n",
        "            seq.append(0)\n",
        "        seqs.append(seq)\n",
        "    return seqs"
      ],
      "execution_count": 50,
      "outputs": []
    },
    {
      "cell_type": "code",
      "metadata": {
        "id": "8-JkE000ARZY",
        "colab_type": "code",
        "colab": {}
      },
      "source": [
        "batch_siz = 5000\n",
        "\n",
        "def make_data(df, start1, start2):\n",
        "\n",
        "    last = False\n",
        "    steps_broken = []\n",
        "    next_words = []\n",
        "    names = []\n",
        "    for idx in range(start1, len(df)): # start from where left off until end of data\n",
        "        steps = df.steps.iloc[idx] # [\"<start>\", \"preheat\", \"oven\", ... , \"<end>\"]\n",
        "        for cutoff in range(start2, len(steps)-1): # start from where left off until end of recipe steps word list\n",
        "            if len(steps_broken) < batch_siz:\n",
        "                steps_broken.append(steps[:cutoff+1]) # [[\"<start>\"], [\"<start>\", \"preheat\"], [\"<start>\", \"preheat\", \"oven\"], ..., [\"<start>\", \"preheat\", \"oven\", ...]] # does not include EOS\n",
        "                next_words.append(steps[cutoff+1]) # [\"preheat\", \"oven\", ... , \"<end>\"] # does not include SOS\n",
        "                names.append(df.name.iloc[idx]) # [[<start>, dutch, leek, casserol, <end>], [<start>, dutch, leek, casserol, <end>], [<start>, dutch, leek, casserol, <end>], ...]\n",
        "            else:\n",
        "                return steps_broken, next_words, names, idx, cutoff, last\n",
        "        start2 = 0\n",
        "\n",
        "    last = True\n",
        "    return steps_broken, next_words, names, idx, cutoff, last"
      ],
      "execution_count": 51,
      "outputs": []
    },
    {
      "cell_type": "code",
      "metadata": {
        "id": "Atg10lw6EAiL",
        "colab_type": "code",
        "colab": {}
      },
      "source": [
        "epochz = 1\n",
        "\n",
        "for epoch in range(epochz): # batch_siz = 5000 --> 3570 batches ~ 6 seconds per batch (batch_size=512) ~ 6 hours per epoch\n",
        "\n",
        "    print(\"\\nStarting Epoch:\", epoch+1)\n",
        "\n",
        "    start1 = 0\n",
        "    start2 = 0\n",
        "    while True:\n",
        "\n",
        "        steps, next_words, names, start1, start2, last = make_data(data, start1, start2)\n",
        "\n",
        "        names_seqs = np.array(make_sequence_name(names), dtype=\"int32\")\n",
        "        steps_seqs = np.array(make_sequence_steps(steps), dtype=\"int32\")\n",
        "        next_words = tf.keras.utils.to_categorical([word_to_int[word] for word in next_words], num_classes=num_words, dtype='int32')\n",
        "\n",
        "        model.fit({'encoder_in': names_seqs, \n",
        "                   'decoder_in': steps_seqs},\n",
        "                  {'output': next_words},\n",
        "                  shuffle=True, \n",
        "                  epochs=1, \n",
        "                  batch_size=512)\n",
        "\n",
        "        if last:\n",
        "            break"
      ],
      "execution_count": null,
      "outputs": []
    },
    {
      "cell_type": "code",
      "metadata": {
        "id": "1jburjgSSXkX",
        "colab_type": "code",
        "colab": {}
      },
      "source": [
        "def make_recipe(name):\n",
        "\n",
        "    name_in = process_text(name)\n",
        "\n",
        "    if len(name_in) > 16:\n",
        "        print(\"name has to be 14 words or less\")\n",
        "        return\n",
        "\n",
        "    try:\n",
        "        name_in = [word_to_int[word] for word in name_in]\n",
        "    except:\n",
        "        print(\"oops, one of the words entered is not in my vocabulary\")\n",
        "        return\n",
        "\n",
        "    while len(name_in) != max_name_len:\n",
        "        name_in.append(0)\n",
        "    name_in = np.array(name_in, dtype=\"int32\")\n",
        "\n",
        "    steps_in = np.zeros(max_steps_len, dtype=\"int32\")\n",
        "    steps_in[0] = word_to_int[\"<start>\"]\n",
        "\n",
        "    preds = []\n",
        "    for idx in range(1, max_steps_len):\n",
        "\n",
        "        pred_int = np.argmax(model.predict({'encoder_in': name_in.reshape(1, max_name_len,), \n",
        "                                            'decoder_in': steps_in.reshape(1, max_steps_len,)}))\n",
        "        next_pred_word = int_to_word[pred_int]\n",
        "\n",
        "        if next_pred_word == \"<end>\":\n",
        "            return preds\n",
        "        else:\n",
        "            preds.append(next_pred_word)\n",
        "\n",
        "        steps_in[idx] = pred_int\n",
        "        \n",
        "    return preds"
      ],
      "execution_count": 53,
      "outputs": []
    },
    {
      "cell_type": "code",
      "metadata": {
        "id": "JgeZKV0wZZ2u",
        "colab_type": "code",
        "colab": {}
      },
      "source": [
        "make_recipe(\"large chocolate chip cookies\")"
      ],
      "execution_count": null,
      "outputs": []
    },
    {
      "cell_type": "code",
      "metadata": {
        "id": "vtlpTe9bejHN",
        "colab_type": "code",
        "colab": {}
      },
      "source": [
        ""
      ],
      "execution_count": null,
      "outputs": []
    }
  ]
}