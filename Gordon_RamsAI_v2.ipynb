{
  "nbformat": 4,
  "nbformat_minor": 0,
  "metadata": {
    "colab": {
      "name": "Gordon RamsAI 5.0",
      "provenance": [],
      "collapsed_sections": [],
      "authorship_tag": "ABX9TyOki3rg/WU31vogL4SKGpS9",
      "include_colab_link": true
    },
    "kernelspec": {
      "name": "python3",
      "display_name": "Python 3"
    },
    "accelerator": "GPU"
  },
  "cells": [
    {
      "cell_type": "markdown",
      "metadata": {
        "id": "view-in-github",
        "colab_type": "text"
      },
      "source": [
        "<a href=\"https://colab.research.google.com/github/TanushGoel/Gordon-RamsAI/blob/master/Gordon_RamsAI_v2.ipynb\" target=\"_parent\"><img src=\"https://colab.research.google.com/assets/colab-badge.svg\" alt=\"Open In Colab\"/></a>"
      ]
    },
    {
      "cell_type": "code",
      "metadata": {
        "id": "mLZSBLyzr9Jw"
      },
      "source": [
        "!unzip -q -o \"/content/recipes_webscraped.csv.zip\""
      ],
      "execution_count": null,
      "outputs": []
    },
    {
      "cell_type": "code",
      "metadata": {
        "colab": {
          "base_uri": "https://localhost:8080/",
          "height": 221
        },
        "id": "f3N9JoFLtr7M",
        "outputId": "d98f5dc1-2b04-4f49-b7dc-8b097baa9c17"
      },
      "source": [
        "import pandas as pd\n",
        "\n",
        "data = pd.read_csv(\"/content/recipes_webscraped.csv\")\n",
        "print(len(data))\n",
        "data.head()"
      ],
      "execution_count": null,
      "outputs": [
        {
          "output_type": "stream",
          "text": [
            "517129\n"
          ],
          "name": "stdout"
        },
        {
          "output_type": "execute_result",
          "data": {
            "text/html": [
              "<div>\n",
              "<style scoped>\n",
              "    .dataframe tbody tr th:only-of-type {\n",
              "        vertical-align: middle;\n",
              "    }\n",
              "\n",
              "    .dataframe tbody tr th {\n",
              "        vertical-align: top;\n",
              "    }\n",
              "\n",
              "    .dataframe thead th {\n",
              "        text-align: right;\n",
              "    }\n",
              "</style>\n",
              "<table border=\"1\" class=\"dataframe\">\n",
              "  <thead>\n",
              "    <tr style=\"text-align: right;\">\n",
              "      <th></th>\n",
              "      <th>name</th>\n",
              "      <th>ingredients</th>\n",
              "      <th>steps</th>\n",
              "    </tr>\n",
              "  </thead>\n",
              "  <tbody>\n",
              "    <tr>\n",
              "      <th>0</th>\n",
              "      <td>buttermilk pie with gingersnap crumb crust</td>\n",
              "      <td>sugar margarine egg egg whites flour salt butt...</td>\n",
              "      <td>preheat oven to 350°f. make pie crust, using 8...</td>\n",
              "    </tr>\n",
              "    <tr>\n",
              "      <th>1</th>\n",
              "      <td>boston cream pie</td>\n",
              "      <td>margarine cake flour powder salt sugar oil van...</td>\n",
              "      <td>beat egg whites until soft peaks form. gradual...</td>\n",
              "    </tr>\n",
              "    <tr>\n",
              "      <th>2</th>\n",
              "      <td>betty crocker's southwestern guacamole dip</td>\n",
              "      <td>avocados medium tomatoes salt cloves garlic li...</td>\n",
              "      <td>peel and mash avocados until lumpy. add remain...</td>\n",
              "    </tr>\n",
              "    <tr>\n",
              "      <th>3</th>\n",
              "      <td>calzone</td>\n",
              "      <td>parker house rolls tomato sauce onion basil le...</td>\n",
              "      <td>open rolls and let stand until they reach room...</td>\n",
              "    </tr>\n",
              "    <tr>\n",
              "      <th>4</th>\n",
              "      <td>buttermilk ranch dressing</td>\n",
              "      <td>clove garlic salt buttermilk sour cream lime j...</td>\n",
              "      <td>mash together garlic and salt to form a paste....</td>\n",
              "    </tr>\n",
              "  </tbody>\n",
              "</table>\n",
              "</div>"
            ],
            "text/plain": [
              "                                         name  ...                                              steps\n",
              "0  buttermilk pie with gingersnap crumb crust  ...  preheat oven to 350°f. make pie crust, using 8...\n",
              "1                            boston cream pie  ...  beat egg whites until soft peaks form. gradual...\n",
              "2  betty crocker's southwestern guacamole dip  ...  peel and mash avocados until lumpy. add remain...\n",
              "3                                     calzone  ...  open rolls and let stand until they reach room...\n",
              "4                   buttermilk ranch dressing  ...  mash together garlic and salt to form a paste....\n",
              "\n",
              "[5 rows x 3 columns]"
            ]
          },
          "metadata": {
            "tags": []
          },
          "execution_count": 1
        }
      ]
    },
    {
      "cell_type": "code",
      "metadata": {
        "colab": {
          "base_uri": "https://localhost:8080/",
          "height": 337
        },
        "id": "LebPh9gou8or",
        "outputId": "71e4ddf0-93f5-4ece-e5ac-001d7173d3d4"
      },
      "source": [
        "import numpy as np\n",
        "\n",
        "pd.DataFrame([len(text.split()) for text in data.name])[0].hist(bins=np.arange(start=0, stop=50, step=1), figsize=[25,5])"
      ],
      "execution_count": null,
      "outputs": [
        {
          "output_type": "execute_result",
          "data": {
            "text/plain": [
              "<matplotlib.axes._subplots.AxesSubplot at 0x7f004630b9e8>"
            ]
          },
          "metadata": {
            "tags": []
          },
          "execution_count": 2
        },
        {
          "output_type": "display_data",
          "data": {
            "image/png": "[encoded data removed]",
            "text/plain": [
              "<Figure size 1800x360 with 1 Axes>"
            ]
          },
          "metadata": {
            "tags": [],
            "needs_background": "light"
          }
        }
      ]
    },
    {
      "cell_type": "code",
      "metadata": {
        "colab": {
          "base_uri": "https://localhost:8080/",
          "height": 337
        },
        "id": "Eo-sIcUovDPU",
        "outputId": "1c5acf74-a245-4dd1-9b3e-9978b25d6c8b"
      },
      "source": [
        "pd.DataFrame([len(str(text).split()) for text in data.ingredients])[0].hist(bins=np.arange(start=0, stop=100, step=1), figsize=[25,5])"
      ],
      "execution_count": null,
      "outputs": [
        {
          "output_type": "execute_result",
          "data": {
            "text/plain": [
              "<matplotlib.axes._subplots.AxesSubplot at 0x7f004615d898>"
            ]
          },
          "metadata": {
            "tags": []
          },
          "execution_count": 3
        },
        {
          "output_type": "display_data",
          "data": {
            "image/png": "[encoded data removed]",
            "text/plain": [
              "<Figure size 1800x360 with 1 Axes>"
            ]
          },
          "metadata": {
            "tags": [],
            "needs_background": "light"
          }
        }
      ]
    },
    {
      "cell_type": "code",
      "metadata": {
        "colab": {
          "base_uri": "https://localhost:8080/",
          "height": 337
        },
        "id": "eKOJfK0FvDb0",
        "outputId": "52e13ce1-c54d-41e9-f0c2-2b5cc8fe252a"
      },
      "source": [
        "pd.DataFrame([len(str(text).split()) for text in data.steps])[0].hist(bins=np.arange(start=0, stop=750, step=1), figsize=[25,5])"
      ],
      "execution_count": null,
      "outputs": [
        {
          "output_type": "execute_result",
          "data": {
            "text/plain": [
              "<matplotlib.axes._subplots.AxesSubplot at 0x7f0045bec940>"
            ]
          },
          "metadata": {
            "tags": []
          },
          "execution_count": 4
        },
        {
          "output_type": "display_data",
          "data": {
            "image/png": "[encoded data removed]",
            "text/plain": [
              "<Figure size 1800x360 with 1 Axes>"
            ]
          },
          "metadata": {
            "tags": [],
            "needs_background": "light"
          }
        }
      ]
    },
    {
      "cell_type": "code",
      "metadata": {
        "colab": {
          "base_uri": "https://localhost:8080/",
          "height": 221
        },
        "id": "Qxg_c8uLv7YK",
        "outputId": "250576df-f8e5-433b-e8fe-76c0540d3a04"
      },
      "source": [
        "max_name_len = 24\n",
        "max_ingreds_len = 64\n",
        "max_steps_len = 512\n",
        "\n",
        "upper_bound_steps = 640\n",
        "data = data[data['steps'].str.split().str.len().le(upper_bound_steps)]\n",
        "\n",
        "print(len(data))\n",
        "data.head()"
      ],
      "execution_count": null,
      "outputs": [
        {
          "output_type": "stream",
          "text": [
            "516531\n"
          ],
          "name": "stdout"
        },
        {
          "output_type": "execute_result",
          "data": {
            "text/html": [
              "<div>\n",
              "<style scoped>\n",
              "    .dataframe tbody tr th:only-of-type {\n",
              "        vertical-align: middle;\n",
              "    }\n",
              "\n",
              "    .dataframe tbody tr th {\n",
              "        vertical-align: top;\n",
              "    }\n",
              "\n",
              "    .dataframe thead th {\n",
              "        text-align: right;\n",
              "    }\n",
              "</style>\n",
              "<table border=\"1\" class=\"dataframe\">\n",
              "  <thead>\n",
              "    <tr style=\"text-align: right;\">\n",
              "      <th></th>\n",
              "      <th>name</th>\n",
              "      <th>ingredients</th>\n",
              "      <th>steps</th>\n",
              "    </tr>\n",
              "  </thead>\n",
              "  <tbody>\n",
              "    <tr>\n",
              "      <th>0</th>\n",
              "      <td>buttermilk pie with gingersnap crumb crust</td>\n",
              "      <td>sugar margarine egg egg whites flour salt butt...</td>\n",
              "      <td>preheat oven to 350°f. make pie crust, using 8...</td>\n",
              "    </tr>\n",
              "    <tr>\n",
              "      <th>1</th>\n",
              "      <td>boston cream pie</td>\n",
              "      <td>margarine cake flour powder salt sugar oil van...</td>\n",
              "      <td>beat egg whites until soft peaks form. gradual...</td>\n",
              "    </tr>\n",
              "    <tr>\n",
              "      <th>2</th>\n",
              "      <td>betty crocker's southwestern guacamole dip</td>\n",
              "      <td>avocados medium tomatoes salt cloves garlic li...</td>\n",
              "      <td>peel and mash avocados until lumpy. add remain...</td>\n",
              "    </tr>\n",
              "    <tr>\n",
              "      <th>3</th>\n",
              "      <td>calzone</td>\n",
              "      <td>parker house rolls tomato sauce onion basil le...</td>\n",
              "      <td>open rolls and let stand until they reach room...</td>\n",
              "    </tr>\n",
              "    <tr>\n",
              "      <th>4</th>\n",
              "      <td>buttermilk ranch dressing</td>\n",
              "      <td>clove garlic salt buttermilk sour cream lime j...</td>\n",
              "      <td>mash together garlic and salt to form a paste....</td>\n",
              "    </tr>\n",
              "  </tbody>\n",
              "</table>\n",
              "</div>"
            ],
            "text/plain": [
              "                                         name  ...                                              steps\n",
              "0  buttermilk pie with gingersnap crumb crust  ...  preheat oven to 350°f. make pie crust, using 8...\n",
              "1                            boston cream pie  ...  beat egg whites until soft peaks form. gradual...\n",
              "2  betty crocker's southwestern guacamole dip  ...  peel and mash avocados until lumpy. add remain...\n",
              "3                                     calzone  ...  open rolls and let stand until they reach room...\n",
              "4                   buttermilk ranch dressing  ...  mash together garlic and salt to form a paste....\n",
              "\n",
              "[5 rows x 3 columns]"
            ]
          },
          "metadata": {
            "tags": []
          },
          "execution_count": 5
        }
      ]
    },
    {
      "cell_type": "code",
      "metadata": {
        "colab": {
          "base_uri": "https://localhost:8080/"
        },
        "id": "VSLxQeQetywo",
        "outputId": "49ac7b8f-7635-4069-b3e8-d7d01b6b537e"
      },
      "source": [
        "!pip3 install -q transformers\n",
        "import transformers\n",
        "\n",
        "tokenizer = transformers.BertTokenizer.from_pretrained('bert-base-uncased', do_lower_case=True)\n",
        "elements = len(tokenizer.get_vocab())\n",
        "print(elements)"
      ],
      "execution_count": null,
      "outputs": [
        {
          "output_type": "stream",
          "text": [
            "30522\n"
          ],
          "name": "stdout"
        }
      ]
    },
    {
      "cell_type": "code",
      "metadata": {
        "id": "5Qh16xdnvBJe"
      },
      "source": [
        "def tokenize_name(sentence):\n",
        "\n",
        "    return tokenizer.encode_plus(str(sentence), max_length=max_name_len,\n",
        "                                 truncation=True, padding='max_length',\n",
        "                                 add_special_tokens=True, return_token_type_ids=False, return_attention_mask=False)['input_ids']\n",
        "\n",
        "def tokenize_ingreds(sentence):\n",
        "\n",
        "    return tokenizer.encode_plus(str(sentence), max_length=max_ingreds_len,\n",
        "                                 truncation=True, padding='max_length',\n",
        "                                 add_special_tokens=True, return_token_type_ids=False, return_attention_mask=False)['input_ids']\n",
        "\n",
        "def tokenize_steps(sentence):\n",
        "\n",
        "    return tokenizer.encode_plus(str(sentence), max_length=max_steps_len,\n",
        "                                 truncation=True, padding='max_length',\n",
        "                                 add_special_tokens=True, return_token_type_ids=False, return_attention_mask=False)['input_ids']\n",
        "\n",
        "def decode(tokenized):\n",
        "\n",
        "    return tokenizer.decode(tokenized, skip_special_tokens=True)"
      ],
      "execution_count": null,
      "outputs": []
    },
    {
      "cell_type": "code",
      "metadata": {
        "id": "RydL558myUKn"
      },
      "source": [
        "data.steps.iloc[0]"
      ],
      "execution_count": null,
      "outputs": []
    },
    {
      "cell_type": "code",
      "metadata": {
        "id": "d1hpSyAAy2Oy"
      },
      "source": [
        "print(tokenize_steps(data.steps.iloc[0]))"
      ],
      "execution_count": null,
      "outputs": []
    },
    {
      "cell_type": "code",
      "metadata": {
        "id": "501GGOBbxbD3"
      },
      "source": [
        "decode(tokenize_steps(data.steps.iloc[0]))"
      ],
      "execution_count": null,
      "outputs": []
    },
    {
      "cell_type": "code",
      "metadata": {
        "id": "cMIyjdeM7Ghk"
      },
      "source": [
        "def augment(sentence):\n",
        "\n",
        "    sentence = str(sentence).lower().split()\n",
        "    np.random.shuffle(sentence)\n",
        "    sentence = sentence[:np.random.randint(0, len(sentence))]\n",
        "\n",
        "    return \" \".join(sentence)"
      ],
      "execution_count": null,
      "outputs": []
    },
    {
      "cell_type": "code",
      "metadata": {
        "id": "_OmIKxMbmWpZ",
        "colab": {
          "base_uri": "https://localhost:8080/",
          "height": 35
        },
        "outputId": "b675d816-2215-41ab-b474-06127752639f"
      },
      "source": [
        "data.ingredients.iloc[42]"
      ],
      "execution_count": null,
      "outputs": [
        {
          "output_type": "execute_result",
          "data": {
            "application/vnd.google.colaboratory.intrinsic+json": {
              "type": "string"
            },
            "text/plain": [
              "'package dry yeast water sugar salt oil flour cornmeal jar ragu pizza sauce mozzarella cheese oregano pepper pepperoni olive green pepper mushroom parmesan cheese'"
            ]
          },
          "metadata": {
            "tags": []
          },
          "execution_count": 12
        }
      ]
    },
    {
      "cell_type": "code",
      "metadata": {
        "id": "eGYPjVBzmTP1",
        "colab": {
          "base_uri": "https://localhost:8080/",
          "height": 35
        },
        "outputId": "0c44c892-59ec-4b5d-aecb-647106006f8e"
      },
      "source": [
        "augment(data.ingredients.iloc[42])"
      ],
      "execution_count": null,
      "outputs": [
        {
          "output_type": "execute_result",
          "data": {
            "application/vnd.google.colaboratory.intrinsic+json": {
              "type": "string"
            },
            "text/plain": [
              "'ragu pepperoni salt mozzarella oil cheese sauce sugar pepper oregano pizza cheese dry cornmeal jar green yeast pepper mushroom olive water flour package'"
            ]
          },
          "metadata": {
            "tags": []
          },
          "execution_count": 13
        }
      ]
    },
    {
      "cell_type": "code",
      "metadata": {
        "id": "GGtPn4Kwc-3O"
      },
      "source": [
        "def generator(meta_batch_siz, batch_siz, df, aug=False):\n",
        "\n",
        "    if meta_batch_siz % batch_siz != 0:\n",
        "        raise ValueError(f\"meta-batch size = {meta_batch_siz} should be divisible by batch size = {batch_siz}\")\n",
        "\n",
        "    while True:\n",
        "\n",
        "        df = df.sample(frac=1).reset_index(drop=True)\n",
        "\n",
        "        namez, ingredz, steps, labels = [], [], [], []\n",
        "\n",
        "        for index in range(len(df)):\n",
        "\n",
        "            start = 1\n",
        "\n",
        "            if aug:\n",
        "                n = np.array(tokenize_name(augment(df.name.iloc[index])), dtype=\"int32\")\n",
        "                i = np.array(tokenize_ingreds(augment(df.ingredients.iloc[index])), dtype=\"int32\")\n",
        "            else:\n",
        "                n = np.array(tokenize_name(df.name.iloc[index]), dtype=\"int32\")\n",
        "                i = np.array(tokenize_ingreds(df.ingredients.iloc[index]), dtype=\"int32\")\n",
        "\n",
        "            stepz = tokenize_steps(df.steps.iloc[index])\n",
        "\n",
        "            for idx in range(start, len([i for i in stepz if i != 0])-1):\n",
        "\n",
        "                steps.append(np.array(stepz[:idx]+[0]*(max_steps_len-idx), dtype=\"int32\"))\n",
        "                labels.append(np.array(stepz[idx], dtype=\"int32\"))\n",
        "                namez.append(n)\n",
        "                ingredz.append(i)\n",
        "\n",
        "                if len(labels) == meta_batch_siz: \n",
        "\n",
        "                    temp = list(zip(namez, ingredz, steps, labels)) \n",
        "                    np.random.shuffle(temp) \n",
        "                    namez, ingredz, steps, labels = zip(*temp) \n",
        "                    del temp\n",
        "\n",
        "                    for j in range(meta_batch_siz // batch_siz):\n",
        "                        yield ({model.inputs[0].name: np.array(namez[j*batch_siz:(j+1)*batch_siz]).reshape(batch_siz, max_name_len), \n",
        "                                model.inputs[1].name: np.array(ingredz[j*batch_siz:(j+1)*batch_siz]).reshape(batch_siz, max_ingreds_len), \n",
        "                                model.inputs[2].name: np.array(steps[j*batch_siz:(j+1)*batch_siz]).reshape(batch_siz, max_steps_len)},\n",
        "                                np.array(labels[j*batch_siz:(j+1)*batch_siz]).reshape(batch_siz, 1))\n",
        "\n",
        "                    start = idx + 1\n",
        "                    namez, ingredz, steps, labels = [], [], [], []\n",
        "\n",
        "        for j in range(0, len(labels), batch_siz):\n",
        "              a = np.array(namez[j:j+batch_siz])\n",
        "              b = np.array(ingredz[j:j+batch_siz])\n",
        "              c = np.array(steps[j:j+batch_siz])\n",
        "              d = np.array(labels[j:j+batch_siz])\n",
        "              yield ({model.inputs[0].name: a.reshape(len(a), max_name_len), \n",
        "                      model.inputs[1].name: b.reshape(len(b), max_ingreds_len), \n",
        "                      model.inputs[2].name: c.reshape(len(c), max_steps_len)},\n",
        "                      d.reshape(len(d), 1))"
      ],
      "execution_count": null,
      "outputs": []
    },
    {
      "cell_type": "code",
      "metadata": {
        "id": "XCK7NYp23ZvB"
      },
      "source": [
        "import tensorflow as tf\n",
        "\n",
        "class MultiHeadSelfAttention(tf.keras.layers.Layer):\n",
        "    def __init__(self, embed_dim, num_heads=8):\n",
        "        super(MultiHeadSelfAttention, self).__init__()\n",
        "        self.embed_dim = embed_dim\n",
        "        self.num_heads = num_heads\n",
        "        if embed_dim % num_heads != 0:\n",
        "            raise ValueError(f\"embedding dimension = {embed_dim} should be divisible by number of heads = {num_heads}\")\n",
        "        self.projection_dim = embed_dim // num_heads\n",
        "        self.query_dense = tf.keras.layers.Dense(embed_dim)\n",
        "        self.key_dense = tf.keras.layers.Dense(embed_dim)\n",
        "        self.value_dense = tf.keras.layers.Dense(embed_dim)\n",
        "        self.combine_heads = tf.keras.layers.Dense(embed_dim)\n",
        "\n",
        "    def attention(self, query, key, value):\n",
        "        score = tf.matmul(query, key, transpose_b=True)\n",
        "        dim_key = tf.cast(tf.shape(key)[-1], tf.float32)\n",
        "        scaled_score = score / tf.math.sqrt(dim_key)\n",
        "        weights = tf.nn.softmax(scaled_score, axis=-1)\n",
        "        output = tf.matmul(weights, value)\n",
        "        return output, weights\n",
        "\n",
        "    def separate_heads(self, x, batch_size):\n",
        "        x = tf.reshape(x, (batch_size, -1, self.num_heads, self.projection_dim))\n",
        "        return tf.transpose(x, perm=[0, 2, 1, 3])\n",
        "\n",
        "    def call(self, inputs):\n",
        "        # x.shape = [batch_size, seq_len, embedding_dim]\n",
        "        batch_size = tf.shape(inputs)[0]\n",
        "        query = self.query_dense(inputs)  # (batch_size, seq_len, embed_dim)\n",
        "        key = self.key_dense(inputs)  # (batch_size, seq_len, embed_dim)\n",
        "        value = self.value_dense(inputs)  # (batch_size, seq_len, embed_dim)\n",
        "        query = self.separate_heads(\n",
        "            query, batch_size\n",
        "        )  # (batch_size, num_heads, seq_len, projection_dim)\n",
        "        key = self.separate_heads(\n",
        "            key, batch_size\n",
        "        )  # (batch_size, num_heads, seq_len, projection_dim)\n",
        "        value = self.separate_heads(\n",
        "            value, batch_size\n",
        "        )  # (batch_size, num_heads, seq_len, projection_dim)\n",
        "        attention, weights = self.attention(query, key, value)\n",
        "        attention = tf.transpose(\n",
        "            attention, perm=[0, 2, 1, 3]\n",
        "        )  # (batch_size, seq_len, num_heads, projection_dim)\n",
        "        concat_attention = tf.reshape(\n",
        "            attention, (batch_size, -1, self.embed_dim)\n",
        "        )  # (batch_size, seq_len, embed_dim)\n",
        "        output = self.combine_heads(\n",
        "            concat_attention\n",
        "        )  # (batch_size, seq_len, embed_dim)\n",
        "        return output\n",
        "\n",
        "    def get_config(self):\n",
        "\n",
        "        config = super().get_config().copy()\n",
        "        config.update({\n",
        "            'embed_dim': self.embed_dim,\n",
        "            'num_heads': self.num_heads,\n",
        "            'projection_dim': self.projection_dim,\n",
        "            'query_dense': self.query_dense,\n",
        "            'key_dense': self.key_dense,\n",
        "            'value_dense': self.value_dense,\n",
        "            'combine_heads': self.combine_heads,\n",
        "        })\n",
        "        return config\n",
        "\n",
        "class TransformerBlock(tf.keras.layers.Layer):\n",
        "    def __init__(self, embed_dim, num_heads, ff_dim, rate=0.1):\n",
        "        super(TransformerBlock, self).__init__()\n",
        "        self.att = MultiHeadSelfAttention(embed_dim, num_heads)\n",
        "        self.ffn = tf.keras.Sequential(\n",
        "            [tf.keras.layers.Dense(ff_dim, activation=\"relu\"), tf.keras.layers.Dense(embed_dim),]\n",
        "        )\n",
        "        self.layernorm1 = tf.keras.layers.LayerNormalization(epsilon=1e-6)\n",
        "        self.layernorm2 = tf.keras.layers.LayerNormalization(epsilon=1e-6)\n",
        "        self.dropout1 = tf.keras.layers.Dropout(rate)\n",
        "        self.dropout2 = tf.keras.layers.Dropout(rate)\n",
        "\n",
        "    def call(self, inputs, training):\n",
        "        attn_output = self.att(inputs)\n",
        "        attn_output = self.dropout1(attn_output, training=training)\n",
        "        out1 = self.layernorm1(inputs + attn_output)\n",
        "        ffn_output = self.ffn(out1)\n",
        "        ffn_output = self.dropout2(ffn_output, training=training)\n",
        "        return self.layernorm2(out1 + ffn_output)\n",
        "\n",
        "    def get_config(self):\n",
        "\n",
        "        config = super().get_config().copy()\n",
        "        config.update({\n",
        "            'att': self.att,\n",
        "            'ffn': self.ffn,\n",
        "            'layernorm1': self.layernorm1,\n",
        "            'layernorm2': self.layernorm2,\n",
        "            'dropout1': self.dropout1,\n",
        "            'dropout2': self.dropout2,\n",
        "        })\n",
        "        return config\n",
        "\n",
        "class TokenAndPositionEmbedding(tf.keras.layers.Layer):\n",
        "    def __init__(self, maxlen, vocab_size, embed_dim):\n",
        "        super(TokenAndPositionEmbedding, self).__init__()\n",
        "        self.token_emb = tf.keras.layers.Embedding(input_dim=vocab_size, output_dim=embed_dim)\n",
        "        self.pos_emb = tf.keras.layers.Embedding(input_dim=maxlen, output_dim=embed_dim)\n",
        "\n",
        "    def call(self, x):\n",
        "        maxlen = tf.shape(x)[-1]\n",
        "        positions = tf.range(start=0, limit=maxlen, delta=1)\n",
        "        positions = self.pos_emb(positions)\n",
        "        x = self.token_emb(x)\n",
        "        return x + positions\n",
        "\n",
        "    def get_config(self):\n",
        "\n",
        "        config = super().get_config().copy()\n",
        "        config.update({\n",
        "            'token_emb': self.token_emb,\n",
        "            'pos_emb': self.pos_emb,\n",
        "        })\n",
        "        return config"
      ],
      "execution_count": null,
      "outputs": []
    },
    {
      "cell_type": "code",
      "metadata": {
        "id": "FAs795j0Zq2t"
      },
      "source": [
        "def attention_block(prev_layer): \n",
        "\n",
        "    # prev_layer.shape = (batch_size, time_steps, input_dim)\n",
        "\n",
        "    time_steps = prev_layer.shape[1]\n",
        "    input_dim = prev_layer.shape[2]\n",
        "\n",
        "    x = tf.keras.layers.Permute((2, 1))(prev_layer) # (batch_size, input_dim, time_steps)\n",
        "    x = tf.keras.layers.Dense(time_steps, activation='softmax')(x) # attention matrix\n",
        "    x = tf.keras.layers.Permute((2, 1))(x) # (batch_size, time_steps, input_dim)\n",
        "\n",
        "    self_weighted_attention = tf.keras.layers.Multiply()([prev_layer, x])\n",
        "\n",
        "    return self_weighted_attention"
      ],
      "execution_count": null,
      "outputs": []
    },
    {
      "cell_type": "code",
      "metadata": {
        "colab": {
          "base_uri": "https://localhost:8080/"
        },
        "id": "7PGRBDCnFs42",
        "outputId": "ec279a17-4fb1-4b88-f3cb-48c42b2c72a6"
      },
      "source": [
        "tf.keras.backend.clear_session()\n",
        "\n",
        "embed_dim = 128\n",
        "num_heads = 8 \n",
        "ff_dim = 512 \n",
        "\n",
        "input_name = tf.keras.layers.Input(shape=(max_name_len,), dtype=\"int32\", name='name_input')\n",
        "name_embed = TokenAndPositionEmbedding(max_name_len, elements, embed_dim)(input_name)\n",
        "name_transformer = TransformerBlock(embed_dim, num_heads, ff_dim)(name_embed)\n",
        "\n",
        "input_ingreds = tf.keras.layers.Input(shape=(max_ingreds_len,), dtype=\"int32\", name='ingreds_input')\n",
        "ingreds_embed = TokenAndPositionEmbedding(max_ingreds_len, elements, embed_dim)(input_ingreds)\n",
        "ingreds_transformer = TransformerBlock(embed_dim, num_heads, ff_dim)(ingreds_embed)\n",
        "\n",
        "concat_name_ingreds = tf.keras.layers.concatenate([name_transformer, ingreds_transformer], axis=1)\n",
        "name_ingreds_transformer = TransformerBlock(embed_dim, num_heads, ff_dim)(concat_name_ingreds)\n",
        "name_ingreds_transformer = TransformerBlock(embed_dim, num_heads, ff_dim)(name_ingreds_transformer)\n",
        "name_ingreds_pooled_output = tf.keras.layers.GlobalMaxPooling1D()(name_ingreds_transformer)\n",
        "\n",
        "input_steps = tf.keras.layers.Input(shape=(max_steps_len,), dtype=\"int32\", name='steps_input')\n",
        "steps_embed = TokenAndPositionEmbedding(max_steps_len, elements, embed_dim)(input_steps)\n",
        "steps_transformer = TransformerBlock(embed_dim, num_heads, ff_dim)(steps_embed)\n",
        "steps_transformer = TransformerBlock(embed_dim, num_heads, ff_dim)(steps_transformer)\n",
        "steps_transformer = TransformerBlock(embed_dim, num_heads, ff_dim)(steps_transformer)\n",
        "steps_pooled_output = tf.keras.layers.GlobalMaxPooling1D()(steps_transformer)\n",
        "\n",
        "concat_feats = tf.keras.layers.concatenate([name_ingreds_pooled_output, steps_pooled_output], axis=1)\n",
        "\n",
        "fc = tf.keras.layers.Dense(256, activation=tf.keras.activations.swish)(concat_feats)\n",
        "drop = tf.keras.layers.AlphaDropout(0.075)(fc)\n",
        "fc = tf.keras.layers.Dense(64, activation=tf.keras.activations.swish)(drop)\n",
        "\n",
        "output = tf.keras.layers.Dense(elements, activation=\"softmax\", name='output')(fc) \n",
        "\n",
        "model = tf.keras.models.Model(inputs=[input_name, input_ingreds, input_steps], outputs=[output])\n",
        "model.summary()"
      ],
      "execution_count": null,
      "outputs": [
        {
          "output_type": "stream",
          "text": [
            "Model: \"model\"\n",
            "__________________________________________________________________________________________________\n",
            "Layer (type)                    Output Shape         Param #     Connected to                     \n",
            "==================================================================================================\n",
            "name_input (InputLayer)         [(None, 24)]         0                                            \n",
            "__________________________________________________________________________________________________\n",
            "ingreds_input (InputLayer)      [(None, 64)]         0                                            \n",
            "__________________________________________________________________________________________________\n",
            "token_and_position_embedding (T (None, 24, 128)      3909888     name_input[0][0]                 \n",
            "__________________________________________________________________________________________________\n",
            "token_and_position_embedding_1  (None, 64, 128)      3915008     ingreds_input[0][0]              \n",
            "__________________________________________________________________________________________________\n",
            "steps_input (InputLayer)        [(None, 512)]        0                                            \n",
            "__________________________________________________________________________________________________\n",
            "transformer_block (TransformerB (None, 24, 128)      198272      token_and_position_embedding[0][0\n",
            "__________________________________________________________________________________________________\n",
            "transformer_block_1 (Transforme (None, 64, 128)      198272      token_and_position_embedding_1[0]\n",
            "__________________________________________________________________________________________________\n",
            "token_and_position_embedding_2  (None, 512, 128)     3972352     steps_input[0][0]                \n",
            "__________________________________________________________________________________________________\n",
            "concatenate (Concatenate)       (None, 88, 128)      0           transformer_block[0][0]          \n",
            "                                                                 transformer_block_1[0][0]        \n",
            "__________________________________________________________________________________________________\n",
            "transformer_block_4 (Transforme (None, 512, 128)     198272      token_and_position_embedding_2[0]\n",
            "__________________________________________________________________________________________________\n",
            "transformer_block_2 (Transforme (None, 88, 128)      198272      concatenate[0][0]                \n",
            "__________________________________________________________________________________________________\n",
            "transformer_block_5 (Transforme (None, 512, 128)     198272      transformer_block_4[0][0]        \n",
            "__________________________________________________________________________________________________\n",
            "transformer_block_3 (Transforme (None, 88, 128)      198272      transformer_block_2[0][0]        \n",
            "__________________________________________________________________________________________________\n",
            "transformer_block_6 (Transforme (None, 512, 128)     198272      transformer_block_5[0][0]        \n",
            "__________________________________________________________________________________________________\n",
            "global_max_pooling1d (GlobalMax (None, 128)          0           transformer_block_3[0][0]        \n",
            "__________________________________________________________________________________________________\n",
            "global_max_pooling1d_1 (GlobalM (None, 128)          0           transformer_block_6[0][0]        \n",
            "__________________________________________________________________________________________________\n",
            "concatenate_1 (Concatenate)     (None, 256)          0           global_max_pooling1d[0][0]       \n",
            "                                                                 global_max_pooling1d_1[0][0]     \n",
            "__________________________________________________________________________________________________\n",
            "dense_42 (Dense)                (None, 256)          65792       concatenate_1[0][0]              \n",
            "__________________________________________________________________________________________________\n",
            "alpha_dropout (AlphaDropout)    (None, 256)          0           dense_42[0][0]                   \n",
            "__________________________________________________________________________________________________\n",
            "dense_43 (Dense)                (None, 64)           16448       alpha_dropout[0][0]              \n",
            "__________________________________________________________________________________________________\n",
            "output (Dense)                  (None, 30522)        1983930     dense_43[0][0]                   \n",
            "==================================================================================================\n",
            "Total params: 15,251,322\n",
            "Trainable params: 15,251,322\n",
            "Non-trainable params: 0\n",
            "__________________________________________________________________________________________________\n"
          ],
          "name": "stdout"
        }
      ]
    },
    {
      "cell_type": "code",
      "metadata": {
        "colab": {
          "base_uri": "https://localhost:8080/"
        },
        "id": "jf_RUTuEDH2p",
        "outputId": "aae13286-1723-418b-cbae-ab0135b6925f"
      },
      "source": [
        "tf.keras.backend.clear_session()\n",
        "\n",
        "embed_dim = 128\n",
        "num_heads = 8 \n",
        "ff_dim = 512 \n",
        "\n",
        "input_name = tf.keras.layers.Input(shape=(max_name_len,), dtype=\"int32\", name='name_input')\n",
        "name_embed = TokenAndPositionEmbedding(max_name_len, elements, embed_dim)(input_name)\n",
        "name_transformer = TransformerBlock(embed_dim, num_heads, ff_dim)(name_embed)\n",
        "\n",
        "input_ingreds = tf.keras.layers.Input(shape=(max_ingreds_len,), dtype=\"int32\", name='ingreds_input')\n",
        "ingreds_embed = TokenAndPositionEmbedding(max_ingreds_len, elements, embed_dim)(input_ingreds)\n",
        "ingreds_transformer = TransformerBlock(embed_dim, num_heads, ff_dim)(ingreds_embed)\n",
        "\n",
        "concat_name_ingreds = tf.keras.layers.concatenate([name_transformer, ingreds_transformer], axis=1)\n",
        "name_ingreds_transformer = TransformerBlock(embed_dim, num_heads, ff_dim)(concat_name_ingreds)\n",
        "name_ingreds_transformer = TransformerBlock(embed_dim, num_heads, ff_dim)(name_ingreds_transformer)\n",
        "\n",
        "input_steps = tf.keras.layers.Input(shape=(max_steps_len,), dtype=\"int32\", name='steps_input')\n",
        "steps_embed = TokenAndPositionEmbedding(max_steps_len, elements, embed_dim)(input_steps)\n",
        "steps_transformer = TransformerBlock(embed_dim, num_heads, ff_dim)(steps_embed)\n",
        "steps_transformer = TransformerBlock(embed_dim, num_heads, ff_dim)(steps_transformer)\n",
        "\n",
        "concat_transformers = tf.keras.layers.concatenate([name_ingreds_transformer, steps_transformer], axis=1)\n",
        "concat_transformer = TransformerBlock(embed_dim, num_heads, ff_dim)(concat_transformers)\n",
        "concat_transformer = TransformerBlock(embed_dim, num_heads, ff_dim)(concat_transformer)\n",
        "\n",
        "pool = tf.keras.layers.GlobalAveragePooling1D()(concat_transformer)\n",
        "\n",
        "fc = tf.keras.layers.Dense(256, activation=tf.keras.activations.swish)(pool)\n",
        "drop = tf.keras.layers.AlphaDropout(0.075)(fc)\n",
        "fc = tf.keras.layers.Dense(64, activation=tf.keras.activations.swish)(drop)\n",
        "\n",
        "output = tf.keras.layers.Dense(elements, activation=\"softmax\", name='output')(fc) \n",
        "\n",
        "model = tf.keras.models.Model(inputs=[input_name, input_ingreds, input_steps], outputs=[output])\n",
        "model.summary()"
      ],
      "execution_count": null,
      "outputs": [
        {
          "output_type": "stream",
          "text": [
            "Model: \"model\"\n",
            "__________________________________________________________________________________________________\n",
            "Layer (type)                    Output Shape         Param #     Connected to                     \n",
            "==================================================================================================\n",
            "name_input (InputLayer)         [(None, 24)]         0                                            \n",
            "__________________________________________________________________________________________________\n",
            "ingreds_input (InputLayer)      [(None, 64)]         0                                            \n",
            "__________________________________________________________________________________________________\n",
            "token_and_position_embedding (T (None, 24, 128)      3909888     name_input[0][0]                 \n",
            "__________________________________________________________________________________________________\n",
            "token_and_position_embedding_1  (None, 64, 128)      3915008     ingreds_input[0][0]              \n",
            "__________________________________________________________________________________________________\n",
            "transformer_block (TransformerB (None, 24, 128)      198272      token_and_position_embedding[0][0\n",
            "__________________________________________________________________________________________________\n",
            "transformer_block_1 (Transforme (None, 64, 128)      198272      token_and_position_embedding_1[0]\n",
            "__________________________________________________________________________________________________\n",
            "steps_input (InputLayer)        [(None, 512)]        0                                            \n",
            "__________________________________________________________________________________________________\n",
            "concatenate (Concatenate)       (None, 88, 128)      0           transformer_block[0][0]          \n",
            "                                                                 transformer_block_1[0][0]        \n",
            "__________________________________________________________________________________________________\n",
            "token_and_position_embedding_2  (None, 512, 128)     3972352     steps_input[0][0]                \n",
            "__________________________________________________________________________________________________\n",
            "transformer_block_2 (Transforme (None, 88, 128)      198272      concatenate[0][0]                \n",
            "__________________________________________________________________________________________________\n",
            "transformer_block_4 (Transforme (None, 512, 128)     198272      token_and_position_embedding_2[0]\n",
            "__________________________________________________________________________________________________\n",
            "transformer_block_3 (Transforme (None, 88, 128)      198272      transformer_block_2[0][0]        \n",
            "__________________________________________________________________________________________________\n",
            "transformer_block_5 (Transforme (None, 512, 128)     198272      transformer_block_4[0][0]        \n",
            "__________________________________________________________________________________________________\n",
            "concatenate_1 (Concatenate)     (None, 600, 128)     0           transformer_block_3[0][0]        \n",
            "                                                                 transformer_block_5[0][0]        \n",
            "__________________________________________________________________________________________________\n",
            "transformer_block_6 (Transforme (None, 600, 128)     198272      concatenate_1[0][0]              \n",
            "__________________________________________________________________________________________________\n",
            "transformer_block_7 (Transforme (None, 600, 128)     198272      transformer_block_6[0][0]        \n",
            "__________________________________________________________________________________________________\n",
            "global_average_pooling1d (Globa (None, 128)          0           transformer_block_7[0][0]        \n",
            "__________________________________________________________________________________________________\n",
            "dense_48 (Dense)                (None, 256)          33024       global_average_pooling1d[0][0]   \n",
            "__________________________________________________________________________________________________\n",
            "alpha_dropout (AlphaDropout)    (None, 256)          0           dense_48[0][0]                   \n",
            "__________________________________________________________________________________________________\n",
            "dense_49 (Dense)                (None, 64)           16448       alpha_dropout[0][0]              \n",
            "__________________________________________________________________________________________________\n",
            "output (Dense)                  (None, 30522)        1983930     dense_49[0][0]                   \n",
            "==================================================================================================\n",
            "Total params: 15,416,826\n",
            "Trainable params: 15,416,826\n",
            "Non-trainable params: 0\n",
            "__________________________________________________________________________________________________\n"
          ],
          "name": "stdout"
        }
      ]
    },
    {
      "cell_type": "code",
      "metadata": {
        "id": "j7LCLbeSX0c3"
      },
      "source": [
        "model.compile(loss=\"sparse_categorical_crossentropy\", optimizer=\"adam\", metrics=[\"accuracy\"])"
      ],
      "execution_count": null,
      "outputs": []
    },
    {
      "cell_type": "code",
      "metadata": {
        "id": "Si1JXRtvGF_S"
      },
      "source": [
        "meta_batch_size = 1310720\n",
        "batch_size = 128\n",
        "model.fit(generator(meta_batch_size, batch_size, data), \n",
        "          epochs=10)"
      ],
      "execution_count": null,
      "outputs": []
    },
    {
      "cell_type": "code",
      "metadata": {
        "id": "muwvrkb0Z1JO"
      },
      "source": [
        "def make_recipe(name, ingreds):\n",
        "\n",
        "    name = np.array(tokenize_name(augment(name)), dtype=\"int32\").reshape(1, max_name_len)\n",
        "    ingreds = np.array(tokenize_ingreds(augment(ingreds)), dtype=\"int32\").reshape(1, max_ingreds_len)\n",
        "\n",
        "    steps = [101]+[0]*(max_steps_len-1)\n",
        "\n",
        "    preds = [101]\n",
        "\n",
        "    for i in range(1, 512): \n",
        "\n",
        "        pred = np.argmax(model.predict({model.inputs[0].name: name, \n",
        "                         model.inputs[1].name: ingreds, \n",
        "                         model.inputs[2].name: np.array(steps, dtype=\"int32\").reshape(1, max_steps_len)}))\n",
        "        \n",
        "        if pred == 102:\n",
        "            break\n",
        "\n",
        "        preds.append(pred)\n",
        "        steps[i] = pred\n",
        "    \n",
        "    return decode(preds)"
      ],
      "execution_count": null,
      "outputs": []
    },
    {
      "cell_type": "code",
      "metadata": {
        "id": "HxXZKpkjw-Pz"
      },
      "source": [
        "make_recipe(\"best chocolate chip cookies\", \"butter sugar eggs vanilla extract baking soda hot water salt flour chocolate chips walnuts\")"
      ],
      "execution_count": null,
      "outputs": []
    },
    {
      "cell_type": "code",
      "metadata": {
        "id": "zlGZ9atfxbgm"
      },
      "source": [
        ""
      ],
      "execution_count": null,
      "outputs": []
    }
  ]
}